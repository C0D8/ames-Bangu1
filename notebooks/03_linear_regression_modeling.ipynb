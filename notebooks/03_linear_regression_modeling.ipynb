{
 "cells": [
  {
   "attachments": {},
   "cell_type": "markdown",
   "metadata": {},
   "source": [
    "# Building a regression model for predicting house sale prices"
   ]
  },
  {
   "cell_type": "code",
   "execution_count": 1,
   "metadata": {},
   "outputs": [],
   "source": [
    "import pickle\n",
    "import pathlib\n",
    "\n",
    "import numpy as np\n",
    "import pandas as pd"
   ]
  },
  {
   "cell_type": "code",
   "execution_count": 2,
   "metadata": {},
   "outputs": [
    {
     "name": "stdout",
     "output_type": "stream",
     "text": [
      "c:\\Users\\jalfr\\Desktop\\Machine Learning\\Bangu1\\ames-Bangu1\\data\n"
     ]
    }
   ],
   "source": [
    "DATA_DIR = pathlib.Path.cwd().parent / 'data'\n",
    "print(DATA_DIR)"
   ]
  },
  {
   "cell_type": "code",
   "execution_count": 3,
   "metadata": {},
   "outputs": [],
   "source": [
    "clean_data_path = DATA_DIR / 'processed' / 'ames_clean.pkl'"
   ]
  },
  {
   "cell_type": "code",
   "execution_count": 4,
   "metadata": {},
   "outputs": [],
   "source": [
    "with open(clean_data_path, 'rb') as file:\n",
    "    data = pickle.load(file)"
   ]
  },
  {
   "cell_type": "code",
   "execution_count": 5,
   "metadata": {},
   "outputs": [
    {
     "name": "stdout",
     "output_type": "stream",
     "text": [
      "<class 'pandas.core.frame.DataFrame'>\n",
      "Index: 2877 entries, 0 to 2929\n",
      "Data columns (total 70 columns):\n",
      " #   Column           Non-Null Count  Dtype   \n",
      "---  ------           --------------  -----   \n",
      " 0   MS.SubClass      2877 non-null   category\n",
      " 1   MS.Zoning        2877 non-null   category\n",
      " 2   Lot.Frontage     2877 non-null   float64 \n",
      " 3   Lot.Area         2877 non-null   float64 \n",
      " 4   Lot.Shape        2877 non-null   category\n",
      " 5   Land.Contour     2877 non-null   category\n",
      " 6   Lot.Config       2877 non-null   category\n",
      " 7   Land.Slope       2877 non-null   category\n",
      " 8   Neighborhood     2877 non-null   category\n",
      " 9   Bldg.Type        2877 non-null   category\n",
      " 10  House.Style      2877 non-null   category\n",
      " 11  Overall.Qual     2877 non-null   category\n",
      " 12  Overall.Cond     2877 non-null   category\n",
      " 13  Roof.Style       2877 non-null   category\n",
      " 14  Mas.Vnr.Type     2877 non-null   category\n",
      " 15  Mas.Vnr.Area     2877 non-null   float64 \n",
      " 16  Exter.Qual       2877 non-null   category\n",
      " 17  Exter.Cond       2877 non-null   category\n",
      " 18  Foundation       2877 non-null   category\n",
      " 19  Bsmt.Qual        2877 non-null   category\n",
      " 20  Bsmt.Cond        2877 non-null   category\n",
      " 21  Bsmt.Exposure    2877 non-null   category\n",
      " 22  BsmtFin.Type.1   2877 non-null   category\n",
      " 23  BsmtFin.SF.1     2877 non-null   float64 \n",
      " 24  BsmtFin.Type.2   2877 non-null   category\n",
      " 25  BsmtFin.SF.2     2877 non-null   float64 \n",
      " 26  Bsmt.Unf.SF      2877 non-null   float64 \n",
      " 27  Total.Bsmt.SF    2877 non-null   float64 \n",
      " 28  Heating.QC       2877 non-null   category\n",
      " 29  Central.Air      2877 non-null   category\n",
      " 30  Electrical       2877 non-null   category\n",
      " 31  X1st.Flr.SF      2877 non-null   float64 \n",
      " 32  X2nd.Flr.SF      2877 non-null   float64 \n",
      " 33  Low.Qual.Fin.SF  2877 non-null   float64 \n",
      " 34  Gr.Liv.Area      2877 non-null   float64 \n",
      " 35  Bsmt.Full.Bath   2877 non-null   float64 \n",
      " 36  Bsmt.Half.Bath   2877 non-null   float64 \n",
      " 37  Full.Bath        2877 non-null   float64 \n",
      " 38  Half.Bath        2877 non-null   float64 \n",
      " 39  Bedroom.AbvGr    2877 non-null   float64 \n",
      " 40  Kitchen.AbvGr    2877 non-null   float64 \n",
      " 41  Kitchen.Qual     2877 non-null   category\n",
      " 42  TotRms.AbvGrd    2877 non-null   float64 \n",
      " 43  Functional       2877 non-null   category\n",
      " 44  Fireplaces       2877 non-null   float64 \n",
      " 45  Garage.Type      2877 non-null   category\n",
      " 46  Garage.Finish    2877 non-null   category\n",
      " 47  Garage.Cars      2877 non-null   float64 \n",
      " 48  Garage.Area      2877 non-null   float64 \n",
      " 49  Paved.Drive      2877 non-null   category\n",
      " 50  Wood.Deck.SF     2877 non-null   float64 \n",
      " 51  Open.Porch.SF    2877 non-null   float64 \n",
      " 52  Enclosed.Porch   2877 non-null   float64 \n",
      " 53  X3Ssn.Porch      2877 non-null   float64 \n",
      " 54  Screen.Porch     2877 non-null   float64 \n",
      " 55  Pool.Area        2877 non-null   float64 \n",
      " 56  Fence            2877 non-null   category\n",
      " 57  Misc.Val         2877 non-null   float64 \n",
      " 58  Mo.Sold          2877 non-null   float64 \n",
      " 59  Yr.Sold          2877 non-null   float64 \n",
      " 60  Sale.Type        2877 non-null   category\n",
      " 61  Sale.Condition   2877 non-null   category\n",
      " 62  SalePrice        2877 non-null   float64 \n",
      " 63  Condition        2877 non-null   category\n",
      " 64  HasShed          2877 non-null   bool    \n",
      " 65  HasAlley         2877 non-null   bool    \n",
      " 66  Exterior         2877 non-null   category\n",
      " 67  Garage.Age       2877 non-null   float64 \n",
      " 68  Remod.Age        2877 non-null   float64 \n",
      " 69  House.Age        2877 non-null   float64 \n",
      "dtypes: bool(2), category(34), float64(34)\n",
      "memory usage: 889.4 KB\n"
     ]
    }
   ],
   "source": [
    "data.info()"
   ]
  },
  {
   "cell_type": "code",
   "execution_count": 6,
   "metadata": {},
   "outputs": [],
   "source": [
    "model_data = data.copy()"
   ]
  },
  {
   "attachments": {},
   "cell_type": "markdown",
   "metadata": {},
   "source": [
    "## Preparing the data for the model"
   ]
  },
  {
   "attachments": {},
   "cell_type": "markdown",
   "metadata": {},
   "source": [
    "Now that we have the data all cleaned, and all the missing values accounted for, lets focus on transforming the data for the model.\n",
    "\n",
    "Lets remember what a model is. \n",
    "\n",
    "- A predictive model is a **set** of functions that receive data as input and produce a prediction, that is, an estimate of the target value as output.\n",
    "- **Train** a model is to search the set of candidate functions for one that adequately represents the **training dataset**.\n",
    "- The adequacy of a candidate function to the training data is usually determined by a **loss function** that measures how well the predictions of the function match the real values of the target within the training dataset. It is common to define a *loss function per data item* (e.g. absolute error, quadratic error, etc) and to construct the *loss function over the dataset* as the *average prediction loss*.\n",
    "\n",
    "Many models are **parametric models**. In this case, each function of the set of functions that makes the model is constructed from a vector of **parameters** that define the function, forming a **parametric function**. For instance: the linear model constructs prediction values out of a linear combination of the input features, plus a constant. The weights of the linear combination plus the constant are the parameters of the model. The set of functions that can be represented by this model is given by all possible values of the vector of parameters that define the function.\n",
    "\n",
    "Some models are called **non-parametric models**. These models usually do not have a parametric form (like the linear model). But the terminology is a bit misleading, though: usually these models *do* have parameters, and potentially an open-ended set of them! For instance, consider the \"decision tree\" model, which is one of the most prominent models of this category. The decision tree may not have a formula for the predicted value, but it does have parameters, many of them: each decision in the tree involves a choice of feature and a threshold level, and those choices must be stored as parameters of the model for use in future predictions.\n",
    "\n",
    "Each model has specific requirements for the format of the input data. Most of the time, the minimum requirement is that:\n",
    "\n",
    "- All columns are numeric;\n",
    "- There are no missing values.\n",
    "\n",
    "Some models have extra requirements. For example: the support-vector-machines model requires that the input features have comparable standard deviations - having features that have large discrepancies between features in terms of their order of magnitude (such as a feature in the fractions of unit range and another in the tens of thousands) will result in poor prediction quality.\n",
    "\n",
    "And some models may not have any special requirement at all. We will study each of those in detail in this course.\n",
    "\n",
    "Lets start our study with a simple model: the *multivariate linear regression* model. This is a model that presents the minimum requirements listed above. So we need to do a bit of processing on the original features:\n",
    "\n",
    "- *Numerical features* stay as given;\n",
    "- *Categorical features* have to be transformed into numerical features. In order to do so we need to **encode** these features, that is: to transform them into new features that convey the same information, but in a numerical form, and in a way that \"makes sense\" - we'll see it below.\n",
    "- *Ordinal features* can be transformed into numerical features in the same way as the caegorical features, or could be assigned increasing numbers in conformity with the ordered nature of the categories of the feature."
   ]
  },
  {
   "attachments": {},
   "cell_type": "markdown",
   "metadata": {},
   "source": [
    "## Encoding categorical variables"
   ]
  },
  {
   "attachments": {},
   "cell_type": "markdown",
   "metadata": {},
   "source": [
    "Lets identify all categorical variables - both nominal (that is, categoricals without category order) and ordinal."
   ]
  },
  {
   "cell_type": "code",
   "execution_count": 7,
   "metadata": {},
   "outputs": [],
   "source": [
    "categorical_columns = []\n",
    "ordinal_columns = []\n",
    "for col in model_data.select_dtypes('category').columns:\n",
    "    if model_data[col].cat.ordered:\n",
    "        ordinal_columns.append(col)\n",
    "    else:\n",
    "        categorical_columns.append(col)"
   ]
  },
  {
   "cell_type": "code",
   "execution_count": 8,
   "metadata": {},
   "outputs": [
    {
     "data": {
      "text/plain": [
       "['Lot.Shape',\n",
       " 'Land.Slope',\n",
       " 'Overall.Qual',\n",
       " 'Overall.Cond',\n",
       " 'Exter.Qual',\n",
       " 'Exter.Cond',\n",
       " 'Heating.QC',\n",
       " 'Electrical',\n",
       " 'Kitchen.Qual',\n",
       " 'Functional',\n",
       " 'Paved.Drive',\n",
       " 'Fence']"
      ]
     },
     "execution_count": 8,
     "metadata": {},
     "output_type": "execute_result"
    }
   ],
   "source": [
    "ordinal_columns"
   ]
  },
  {
   "cell_type": "code",
   "execution_count": 9,
   "metadata": {},
   "outputs": [
    {
     "data": {
      "text/plain": [
       "['MS.SubClass',\n",
       " 'MS.Zoning',\n",
       " 'Land.Contour',\n",
       " 'Lot.Config',\n",
       " 'Neighborhood',\n",
       " 'Bldg.Type',\n",
       " 'House.Style',\n",
       " 'Roof.Style',\n",
       " 'Mas.Vnr.Type',\n",
       " 'Foundation',\n",
       " 'Bsmt.Qual',\n",
       " 'Bsmt.Cond',\n",
       " 'Bsmt.Exposure',\n",
       " 'BsmtFin.Type.1',\n",
       " 'BsmtFin.Type.2',\n",
       " 'Central.Air',\n",
       " 'Garage.Type',\n",
       " 'Garage.Finish',\n",
       " 'Sale.Type',\n",
       " 'Sale.Condition',\n",
       " 'Condition',\n",
       " 'Exterior']"
      ]
     },
     "execution_count": 9,
     "metadata": {},
     "output_type": "execute_result"
    }
   ],
   "source": [
    "categorical_columns"
   ]
  },
  {
   "attachments": {},
   "cell_type": "markdown",
   "metadata": {},
   "source": [
    "### Encoding ordinal variables "
   ]
  },
  {
   "attachments": {},
   "cell_type": "markdown",
   "metadata": {},
   "source": [
    "Ordinal variables can be transformed into integer numbers in a straightforward manner: the lowest category is assigned the value \"zero\", the next category is given the value \"one\", etc. The `Pandas` library has a function for this task: `factorize()`:"
   ]
  },
  {
   "cell_type": "code",
   "execution_count": 10,
   "metadata": {},
   "outputs": [],
   "source": [
    "for col in ordinal_columns:\n",
    "    codes, _ = pd.factorize(data[col], sort=True)\n",
    "    model_data[col] = codes"
   ]
  },
  {
   "attachments": {},
   "cell_type": "markdown",
   "metadata": {},
   "source": [
    "Lets confirm that the variables are no longer ordinal, but now are integers:"
   ]
  },
  {
   "cell_type": "code",
   "execution_count": 11,
   "metadata": {},
   "outputs": [
    {
     "name": "stdout",
     "output_type": "stream",
     "text": [
      "<class 'pandas.core.frame.DataFrame'>\n",
      "Index: 2877 entries, 0 to 2929\n",
      "Data columns (total 12 columns):\n",
      " #   Column        Non-Null Count  Dtype\n",
      "---  ------        --------------  -----\n",
      " 0   Lot.Shape     2877 non-null   int64\n",
      " 1   Land.Slope    2877 non-null   int64\n",
      " 2   Overall.Qual  2877 non-null   int64\n",
      " 3   Overall.Cond  2877 non-null   int64\n",
      " 4   Exter.Qual    2877 non-null   int64\n",
      " 5   Exter.Cond    2877 non-null   int64\n",
      " 6   Heating.QC    2877 non-null   int64\n",
      " 7   Electrical    2877 non-null   int64\n",
      " 8   Kitchen.Qual  2877 non-null   int64\n",
      " 9   Functional    2877 non-null   int64\n",
      " 10  Paved.Drive   2877 non-null   int64\n",
      " 11  Fence         2877 non-null   int64\n",
      "dtypes: int64(12)\n",
      "memory usage: 292.2 KB\n"
     ]
    }
   ],
   "source": [
    "model_data[ordinal_columns].info()"
   ]
  },
  {
   "attachments": {},
   "cell_type": "markdown",
   "metadata": {},
   "source": [
    "Compare the original values with the encoded values:"
   ]
  },
  {
   "cell_type": "code",
   "execution_count": 12,
   "metadata": {},
   "outputs": [
    {
     "data": {
      "text/plain": [
       "Lot.Shape\n",
       "Reg    1825\n",
       "IR1     960\n",
       "IR2      76\n",
       "IR3      16\n",
       "Name: count, dtype: int64"
      ]
     },
     "execution_count": 12,
     "metadata": {},
     "output_type": "execute_result"
    }
   ],
   "source": [
    "data['Lot.Shape'].value_counts()"
   ]
  },
  {
   "cell_type": "code",
   "execution_count": 13,
   "metadata": {},
   "outputs": [
    {
     "data": {
      "text/plain": [
       "Lot.Shape\n",
       "0    1825\n",
       "1     960\n",
       "2      76\n",
       "3      16\n",
       "Name: count, dtype: int64"
      ]
     },
     "execution_count": 13,
     "metadata": {},
     "output_type": "execute_result"
    }
   ],
   "source": [
    "model_data['Lot.Shape'].value_counts()"
   ]
  },
  {
   "attachments": {},
   "cell_type": "markdown",
   "metadata": {},
   "source": [
    "### Encoding nominal variables"
   ]
  },
  {
   "attachments": {},
   "cell_type": "markdown",
   "metadata": {},
   "source": [
    "With nominal variables there is no notion of order among categories. Therefore, it would be a conceptual mistake to encode them in the same manner as the ordinal variables. For instance, consider the `Exterior` variable:"
   ]
  },
  {
   "cell_type": "code",
   "execution_count": 14,
   "metadata": {},
   "outputs": [
    {
     "data": {
      "text/plain": [
       "Exterior\n",
       "VinylSd    1024\n",
       "HdBoard     439\n",
       "MetalSd     432\n",
       "Wd Sdng     401\n",
       "Plywood     218\n",
       "CemntBd     126\n",
       "BrkFace      86\n",
       "WdShing      55\n",
       "Stucco       42\n",
       "AsbShng      41\n",
       "Other        13\n",
       "Name: count, dtype: int64"
      ]
     },
     "execution_count": 14,
     "metadata": {},
     "output_type": "execute_result"
    }
   ],
   "source": [
    "model_data['Exterior'].value_counts()"
   ]
  },
  {
   "attachments": {},
   "cell_type": "markdown",
   "metadata": {},
   "source": [
    "We cannot assign an order here, lest we end up with equations like `HdBoard` + `Plywood` = `CemntBd`, which are nonsense. \n",
    "\n",
    "The strategy here to encode `Exterior` is to create several new numerical variables to represent the membership of a given data item to one of the `Exterior` categories. These are called **dummy variables**. Each of these new variables contain only the values \"zero\" or \"one\" (i.e. they are binary variables), where $1$ denotes that the data item belongs to the category represented by the variable. Evidently, for a given data item, only one dummy variable has a value of $1$, all remaining are $0$.\n",
    "\n",
    "There are two types of dummy variable encoding:\n",
    "\n",
    "- \"One-hot\" encoding: in this case we create one dummy variable per category. Let's look at the `Exterior` feature as an example. The `Pandas` function `get_dummies()` can do the encoding for us:"
   ]
  },
  {
   "cell_type": "code",
   "execution_count": 15,
   "metadata": {},
   "outputs": [
    {
     "data": {
      "text/html": [
       "<div>\n",
       "<style scoped>\n",
       "    .dataframe tbody tr th:only-of-type {\n",
       "        vertical-align: middle;\n",
       "    }\n",
       "\n",
       "    .dataframe tbody tr th {\n",
       "        vertical-align: top;\n",
       "    }\n",
       "\n",
       "    .dataframe thead th {\n",
       "        text-align: right;\n",
       "    }\n",
       "</style>\n",
       "<table border=\"1\" class=\"dataframe\">\n",
       "  <thead>\n",
       "    <tr style=\"text-align: right;\">\n",
       "      <th></th>\n",
       "      <th>0</th>\n",
       "      <th>1</th>\n",
       "      <th>2</th>\n",
       "      <th>3</th>\n",
       "      <th>4</th>\n",
       "    </tr>\n",
       "  </thead>\n",
       "  <tbody>\n",
       "    <tr>\n",
       "      <th>AsbShng</th>\n",
       "      <td>False</td>\n",
       "      <td>False</td>\n",
       "      <td>False</td>\n",
       "      <td>False</td>\n",
       "      <td>False</td>\n",
       "    </tr>\n",
       "    <tr>\n",
       "      <th>BrkFace</th>\n",
       "      <td>True</td>\n",
       "      <td>False</td>\n",
       "      <td>False</td>\n",
       "      <td>True</td>\n",
       "      <td>False</td>\n",
       "    </tr>\n",
       "    <tr>\n",
       "      <th>CemntBd</th>\n",
       "      <td>False</td>\n",
       "      <td>False</td>\n",
       "      <td>False</td>\n",
       "      <td>False</td>\n",
       "      <td>False</td>\n",
       "    </tr>\n",
       "    <tr>\n",
       "      <th>HdBoard</th>\n",
       "      <td>False</td>\n",
       "      <td>False</td>\n",
       "      <td>False</td>\n",
       "      <td>False</td>\n",
       "      <td>False</td>\n",
       "    </tr>\n",
       "    <tr>\n",
       "      <th>MetalSd</th>\n",
       "      <td>False</td>\n",
       "      <td>False</td>\n",
       "      <td>False</td>\n",
       "      <td>False</td>\n",
       "      <td>False</td>\n",
       "    </tr>\n",
       "    <tr>\n",
       "      <th>Plywood</th>\n",
       "      <td>False</td>\n",
       "      <td>False</td>\n",
       "      <td>False</td>\n",
       "      <td>False</td>\n",
       "      <td>False</td>\n",
       "    </tr>\n",
       "    <tr>\n",
       "      <th>Stucco</th>\n",
       "      <td>False</td>\n",
       "      <td>False</td>\n",
       "      <td>False</td>\n",
       "      <td>False</td>\n",
       "      <td>False</td>\n",
       "    </tr>\n",
       "    <tr>\n",
       "      <th>VinylSd</th>\n",
       "      <td>False</td>\n",
       "      <td>True</td>\n",
       "      <td>False</td>\n",
       "      <td>False</td>\n",
       "      <td>True</td>\n",
       "    </tr>\n",
       "    <tr>\n",
       "      <th>Wd Sdng</th>\n",
       "      <td>False</td>\n",
       "      <td>False</td>\n",
       "      <td>True</td>\n",
       "      <td>False</td>\n",
       "      <td>False</td>\n",
       "    </tr>\n",
       "    <tr>\n",
       "      <th>WdShing</th>\n",
       "      <td>False</td>\n",
       "      <td>False</td>\n",
       "      <td>False</td>\n",
       "      <td>False</td>\n",
       "      <td>False</td>\n",
       "    </tr>\n",
       "    <tr>\n",
       "      <th>Other</th>\n",
       "      <td>False</td>\n",
       "      <td>False</td>\n",
       "      <td>False</td>\n",
       "      <td>False</td>\n",
       "      <td>False</td>\n",
       "    </tr>\n",
       "    <tr>\n",
       "      <th>Exterior</th>\n",
       "      <td>BrkFace</td>\n",
       "      <td>VinylSd</td>\n",
       "      <td>Wd Sdng</td>\n",
       "      <td>BrkFace</td>\n",
       "      <td>VinylSd</td>\n",
       "    </tr>\n",
       "  </tbody>\n",
       "</table>\n",
       "</div>"
      ],
      "text/plain": [
       "                0        1        2        3        4\n",
       "AsbShng     False    False    False    False    False\n",
       "BrkFace      True    False    False     True    False\n",
       "CemntBd     False    False    False    False    False\n",
       "HdBoard     False    False    False    False    False\n",
       "MetalSd     False    False    False    False    False\n",
       "Plywood     False    False    False    False    False\n",
       "Stucco      False    False    False    False    False\n",
       "VinylSd     False     True    False    False     True\n",
       "Wd Sdng     False    False     True    False    False\n",
       "WdShing     False    False    False    False    False\n",
       "Other       False    False    False    False    False\n",
       "Exterior  BrkFace  VinylSd  Wd Sdng  BrkFace  VinylSd"
      ]
     },
     "execution_count": 15,
     "metadata": {},
     "output_type": "execute_result"
    }
   ],
   "source": [
    "original_data = model_data['Exterior']\n",
    "encoded_data = pd.get_dummies(original_data)\n",
    "\n",
    "aux_dataframe = encoded_data\n",
    "aux_dataframe['Exterior'] = original_data.copy()\n",
    "\n",
    "aux_dataframe.head().transpose()"
   ]
  },
  {
   "attachments": {},
   "cell_type": "markdown",
   "metadata": {},
   "source": [
    "Observe that for each value of `Exterior`, only the corresponding dummy is flagged.\n",
    "\n",
    "One-hot encoding is a popular technique in Machine Learning. Statisticians, however, prefer a slightly different way of dummy encoding which is:\n",
    "\n",
    "- Choose a category to *not encode* (this is called the *base category*)\n",
    "- Generate dummies for the remaining categories. That is:\n",
    "    - If the data item belongs to the base category, no dummy receives a value of $1$;\n",
    "    - Otherwise, set the corresponding dummy to $1$.\n",
    "\n",
    "The same `get_dummies()` function of `Pandas` can do this automatically with the `drop_first` argument:"
   ]
  },
  {
   "cell_type": "code",
   "execution_count": 16,
   "metadata": {},
   "outputs": [
    {
     "data": {
      "text/html": [
       "<div>\n",
       "<style scoped>\n",
       "    .dataframe tbody tr th:only-of-type {\n",
       "        vertical-align: middle;\n",
       "    }\n",
       "\n",
       "    .dataframe tbody tr th {\n",
       "        vertical-align: top;\n",
       "    }\n",
       "\n",
       "    .dataframe thead th {\n",
       "        text-align: right;\n",
       "    }\n",
       "</style>\n",
       "<table border=\"1\" class=\"dataframe\">\n",
       "  <thead>\n",
       "    <tr style=\"text-align: right;\">\n",
       "      <th></th>\n",
       "      <th>0</th>\n",
       "      <th>1</th>\n",
       "      <th>2</th>\n",
       "      <th>3</th>\n",
       "      <th>4</th>\n",
       "    </tr>\n",
       "  </thead>\n",
       "  <tbody>\n",
       "    <tr>\n",
       "      <th>BrkFace</th>\n",
       "      <td>True</td>\n",
       "      <td>False</td>\n",
       "      <td>False</td>\n",
       "      <td>True</td>\n",
       "      <td>False</td>\n",
       "    </tr>\n",
       "    <tr>\n",
       "      <th>CemntBd</th>\n",
       "      <td>False</td>\n",
       "      <td>False</td>\n",
       "      <td>False</td>\n",
       "      <td>False</td>\n",
       "      <td>False</td>\n",
       "    </tr>\n",
       "    <tr>\n",
       "      <th>HdBoard</th>\n",
       "      <td>False</td>\n",
       "      <td>False</td>\n",
       "      <td>False</td>\n",
       "      <td>False</td>\n",
       "      <td>False</td>\n",
       "    </tr>\n",
       "    <tr>\n",
       "      <th>MetalSd</th>\n",
       "      <td>False</td>\n",
       "      <td>False</td>\n",
       "      <td>False</td>\n",
       "      <td>False</td>\n",
       "      <td>False</td>\n",
       "    </tr>\n",
       "    <tr>\n",
       "      <th>Plywood</th>\n",
       "      <td>False</td>\n",
       "      <td>False</td>\n",
       "      <td>False</td>\n",
       "      <td>False</td>\n",
       "      <td>False</td>\n",
       "    </tr>\n",
       "    <tr>\n",
       "      <th>Stucco</th>\n",
       "      <td>False</td>\n",
       "      <td>False</td>\n",
       "      <td>False</td>\n",
       "      <td>False</td>\n",
       "      <td>False</td>\n",
       "    </tr>\n",
       "    <tr>\n",
       "      <th>VinylSd</th>\n",
       "      <td>False</td>\n",
       "      <td>True</td>\n",
       "      <td>False</td>\n",
       "      <td>False</td>\n",
       "      <td>True</td>\n",
       "    </tr>\n",
       "    <tr>\n",
       "      <th>Wd Sdng</th>\n",
       "      <td>False</td>\n",
       "      <td>False</td>\n",
       "      <td>True</td>\n",
       "      <td>False</td>\n",
       "      <td>False</td>\n",
       "    </tr>\n",
       "    <tr>\n",
       "      <th>WdShing</th>\n",
       "      <td>False</td>\n",
       "      <td>False</td>\n",
       "      <td>False</td>\n",
       "      <td>False</td>\n",
       "      <td>False</td>\n",
       "    </tr>\n",
       "    <tr>\n",
       "      <th>Other</th>\n",
       "      <td>False</td>\n",
       "      <td>False</td>\n",
       "      <td>False</td>\n",
       "      <td>False</td>\n",
       "      <td>False</td>\n",
       "    </tr>\n",
       "    <tr>\n",
       "      <th>Exterior</th>\n",
       "      <td>BrkFace</td>\n",
       "      <td>VinylSd</td>\n",
       "      <td>Wd Sdng</td>\n",
       "      <td>BrkFace</td>\n",
       "      <td>VinylSd</td>\n",
       "    </tr>\n",
       "  </tbody>\n",
       "</table>\n",
       "</div>"
      ],
      "text/plain": [
       "                0        1        2        3        4\n",
       "BrkFace      True    False    False     True    False\n",
       "CemntBd     False    False    False    False    False\n",
       "HdBoard     False    False    False    False    False\n",
       "MetalSd     False    False    False    False    False\n",
       "Plywood     False    False    False    False    False\n",
       "Stucco      False    False    False    False    False\n",
       "VinylSd     False     True    False    False     True\n",
       "Wd Sdng     False    False     True    False    False\n",
       "WdShing     False    False    False    False    False\n",
       "Other       False    False    False    False    False\n",
       "Exterior  BrkFace  VinylSd  Wd Sdng  BrkFace  VinylSd"
      ]
     },
     "execution_count": 16,
     "metadata": {},
     "output_type": "execute_result"
    }
   ],
   "source": [
    "original_data = model_data['Exterior']\n",
    "encoded_data = pd.get_dummies(original_data, drop_first=True)\n",
    "\n",
    "aux_dataframe = encoded_data\n",
    "aux_dataframe['Exterior'] = original_data.copy()\n",
    "\n",
    "aux_dataframe.head().transpose()"
   ]
  },
  {
   "attachments": {},
   "cell_type": "markdown",
   "metadata": {},
   "source": [
    "Notice that we are now missing the dummy variable for the `AsbShng` category.\n",
    "\n",
    "Why to encode things this way? If we don't drop one of the dummies, then it will always be the case that the sum of the values of the dummies is $1$ (since each data item must belong to one of the categories). The linear model, particularly very popular with the statisticians, implies the existence of a fictitious feature containing, for all data items, the value $1$. Hence we end up having a set of variables where a linear combination of them (in this case, the sum of the dummies) matches the value at another variable. This has numerical computing implications for the linear model, that we will discuss in class.\n",
    "\n",
    "Since we want to use the linear model in this notebook, lets encode all categoricals with the `drop_first` alternative."
   ]
  },
  {
   "cell_type": "code",
   "execution_count": 17,
   "metadata": {},
   "outputs": [],
   "source": [
    "model_data = pd.get_dummies(model_data, drop_first=True)"
   ]
  },
  {
   "attachments": {},
   "cell_type": "markdown",
   "metadata": {},
   "source": [
    "Now our dataset has a lot more variables!"
   ]
  },
  {
   "cell_type": "code",
   "execution_count": 18,
   "metadata": {},
   "outputs": [
    {
     "name": "stdout",
     "output_type": "stream",
     "text": [
      "<class 'pandas.core.frame.DataFrame'>\n",
      "Index: 2877 entries, 0 to 2929\n",
      "Columns: 165 entries, Lot.Frontage to Exterior_Other\n",
      "dtypes: bool(119), float64(34), int64(12)\n",
      "memory usage: 1.4 MB\n"
     ]
    }
   ],
   "source": [
    "model_data.info()"
   ]
  },
  {
   "cell_type": "code",
   "execution_count": 19,
   "metadata": {},
   "outputs": [
    {
     "name": "stdout",
     "output_type": "stream",
     "text": [
      "From column \"MS.SubClass\" we made \"MS.SubClass_30\", \"MS.SubClass_50\", \"MS.SubClass_60\", \"MS.SubClass_70\", \"MS.SubClass_80\", \"MS.SubClass_85\", \"MS.SubClass_90\", \"MS.SubClass_120\", \"MS.SubClass_160\", \"MS.SubClass_190\", \"MS.SubClass_Other\"\n",
      "\n",
      "From column \"MS.Zoning\" we made \"MS.Zoning_RH\", \"MS.Zoning_RL\", \"MS.Zoning_RM\"\n",
      "\n",
      "From column \"Land.Contour\" we made \"Land.Contour_HLS\", \"Land.Contour_Low\", \"Land.Contour_Lvl\"\n",
      "\n",
      "From column \"Lot.Config\" we made \"Lot.Config_CulDSac\", \"Lot.Config_FR2\", \"Lot.Config_FR3\", \"Lot.Config_Inside\"\n",
      "\n",
      "From column \"Neighborhood\" we made \"Neighborhood_BrDale\", \"Neighborhood_BrkSide\", \"Neighborhood_ClearCr\", \"Neighborhood_CollgCr\", \"Neighborhood_Crawfor\", \"Neighborhood_Edwards\", \"Neighborhood_Gilbert\", \"Neighborhood_IDOTRR\", \"Neighborhood_MeadowV\", \"Neighborhood_Mitchel\", \"Neighborhood_NAmes\", \"Neighborhood_NPkVill\", \"Neighborhood_NWAmes\", \"Neighborhood_NoRidge\", \"Neighborhood_NridgHt\", \"Neighborhood_OldTown\", \"Neighborhood_SWISU\", \"Neighborhood_Sawyer\", \"Neighborhood_SawyerW\", \"Neighborhood_Somerst\", \"Neighborhood_StoneBr\", \"Neighborhood_Timber\", \"Neighborhood_Veenker\"\n",
      "\n",
      "From column \"Bldg.Type\" we made \"Bldg.Type_2fmCon\", \"Bldg.Type_Duplex\", \"Bldg.Type_Twnhs\", \"Bldg.Type_TwnhsE\"\n",
      "\n",
      "From column \"House.Style\" we made \"House.Style_1.5Unf\", \"House.Style_1Story\", \"House.Style_2.5Fin\", \"House.Style_2.5Unf\", \"House.Style_2Story\", \"House.Style_SFoyer\", \"House.Style_SLvl\"\n",
      "\n",
      "From column \"Roof.Style\" we made \"Roof.Style_Hip\", \"Roof.Style_Other\"\n",
      "\n",
      "From column \"Mas.Vnr.Type\" we made \"Mas.Vnr.Type_Stone\", \"Mas.Vnr.Type_Other\", \"Mas.Vnr.Type_None\"\n",
      "\n",
      "From column \"Foundation\" we made \"Foundation_CBlock\", \"Foundation_PConc\", \"Foundation_Other\"\n",
      "\n",
      "From column \"Bsmt.Qual\" we made \"Bsmt.Qual_Gd\", \"Bsmt.Qual_TA\", \"Bsmt.Qual_Fa\", \"Bsmt.Qual_NA\"\n",
      "\n",
      "From column \"Bsmt.Cond\" we made \"Bsmt.Cond_TA\", \"Bsmt.Cond_Fa\", \"Bsmt.Cond_NA\"\n",
      "\n",
      "From column \"Bsmt.Exposure\" we made \"Bsmt.Exposure_Av\", \"Bsmt.Exposure_Mn\", \"Bsmt.Exposure_No\", \"Bsmt.Exposure_NA\"\n",
      "\n",
      "From column \"BsmtFin.Type.1\" we made \"BsmtFin.Type.1_ALQ\", \"BsmtFin.Type.1_BLQ\", \"BsmtFin.Type.1_Rec\", \"BsmtFin.Type.1_LwQ\", \"BsmtFin.Type.1_Unf\", \"BsmtFin.Type.1_NA\"\n",
      "\n",
      "From column \"BsmtFin.Type.2\" we made \"BsmtFin.Type.2_ALQ\", \"BsmtFin.Type.2_BLQ\", \"BsmtFin.Type.2_Rec\", \"BsmtFin.Type.2_LwQ\", \"BsmtFin.Type.2_Unf\", \"BsmtFin.Type.2_NA\"\n",
      "\n",
      "From column \"Central.Air\" we made \"Central.Air_Y\"\n",
      "\n",
      "From column \"Garage.Type\" we made \"Garage.Type_Attchd\", \"Garage.Type_Basment\", \"Garage.Type_BuiltIn\", \"Garage.Type_CarPort\", \"Garage.Type_Detchd\", \"Garage.Type_NoGarage\"\n",
      "\n",
      "From column \"Garage.Finish\" we made \"Garage.Finish_RFn\", \"Garage.Finish_Unf\", \"Garage.Finish_NoGarage\"\n",
      "\n",
      "From column \"Sale.Type\" we made \"Sale.Type_GroupedWD\", \"Sale.Type_Other\"\n",
      "\n",
      "From column \"Sale.Condition\" we made \"Sale.Condition_AdjLand\", \"Sale.Condition_Alloca\", \"Sale.Condition_Family\", \"Sale.Condition_Normal\", \"Sale.Condition_Partial\"\n",
      "\n",
      "From column \"Condition\" we made \"Condition_Railroad\", \"Condition_Roads\", \"Condition_Positive\", \"Condition_RoadsAndRailroad\"\n",
      "\n",
      "From column \"Exterior\" we made \"Exterior_BrkFace\", \"Exterior_CemntBd\", \"Exterior_HdBoard\", \"Exterior_MetalSd\", \"Exterior_Plywood\", \"Exterior_Stucco\", \"Exterior_VinylSd\", \"Exterior_Wd Sdng\", \"Exterior_WdShing\", \"Exterior_Other\"\n",
      "\n"
     ]
    }
   ],
   "source": [
    "for cat in categorical_columns:\n",
    "    dummies = []\n",
    "    for col in model_data.columns:\n",
    "        if col.startswith(cat + \"_\"):\n",
    "            dummies.append(f'\"{col}\"')\n",
    "    dummies_str = ', '.join(dummies)\n",
    "    print(f'From column \"{cat}\" we made {dummies_str}\\n')"
   ]
  },
  {
   "attachments": {},
   "cell_type": "markdown",
   "metadata": {},
   "source": [
    "## Train-test splitting"
   ]
  },
  {
   "attachments": {},
   "cell_type": "markdown",
   "metadata": {},
   "source": [
    "The data will now be organized as follows:\n",
    "\n",
    "- The features form a matrix $X$ of size $m \\times n$, where $m$ is the number of data items, and $n$ is the number of features.\n",
    "- The target forms a column-matrix $y$ of length $m$."
   ]
  },
  {
   "cell_type": "code",
   "execution_count": 20,
   "metadata": {},
   "outputs": [],
   "source": [
    "X = model_data.drop(columns=['SalePrice']).copy()\n",
    "y = model_data['SalePrice'].copy()"
   ]
  },
  {
   "cell_type": "code",
   "execution_count": 21,
   "metadata": {},
   "outputs": [
    {
     "data": {
      "text/plain": [
       "(array([[141.0, 31770.0, 1, ..., False, False, False],\n",
       "        [80.0, 11622.0, 0, ..., False, False, False],\n",
       "        [81.0, 14267.0, 1, ..., True, False, False],\n",
       "        ...,\n",
       "        [62.0, 10441.0, 0, ..., False, False, False],\n",
       "        [77.0, 10010.0, 0, ..., False, False, False],\n",
       "        [74.0, 9627.0, 0, ..., False, False, False]], dtype=object),\n",
       " array([5.33243846, 5.0211893 , 5.23552845, ..., 5.12057393, 5.23044892,\n",
       "        5.27415785]))"
      ]
     },
     "execution_count": 21,
     "metadata": {},
     "output_type": "execute_result"
    }
   ],
   "source": [
    "X.values, y.values"
   ]
  },
  {
   "attachments": {},
   "cell_type": "markdown",
   "metadata": {},
   "source": [
    "This is the typical set-up of a machine learning project. Now we want to train our model *and* verify that the model provides good predictions for *unseen* data items. Why the emphasis on \"unseen\"? Because there is no use for a model that only gives predictions for the items in the data used to train it - we want our models to *generalize*.\n",
    "\n",
    "The way to assess the model's performance for unseen values is to split the dataset into two subsets: the **training** and **test** datasets.\n",
    "\n",
    "We have been using a lot of `Pandas` to manipulate our data so far. From now on we will switch to another very popular library for machine learning in Python: `Scikit-Learn`.\n",
    "\n",
    "The function `train_test_split()` will take as arguments the dataset to be split, the specification of the fraction of the dataset to be reserved for testing, and a random seed value - so that the split will always be the same whenever we run our notebook. This is a customary measure to ensure reproducibility of the notebook."
   ]
  },
  {
   "cell_type": "code",
   "execution_count": 22,
   "metadata": {},
   "outputs": [],
   "source": [
    "from sklearn.model_selection import train_test_split"
   ]
  },
  {
   "cell_type": "code",
   "execution_count": 23,
   "metadata": {},
   "outputs": [],
   "source": [
    "RANDOM_SEED = 42  # Any number here, really."
   ]
  },
  {
   "cell_type": "code",
   "execution_count": 24,
   "metadata": {},
   "outputs": [],
   "source": [
    "Xtrain, Xtest, ytrain, ytest = train_test_split(\n",
    "    X,\n",
    "    y,\n",
    "    test_size=0.25,\n",
    "    random_state=RANDOM_SEED,\n",
    ")\n"
   ]
  },
  {
   "cell_type": "code",
   "execution_count": 25,
   "metadata": {},
   "outputs": [
    {
     "data": {
      "text/plain": [
       "((2877, 164), (2157, 164), (720, 164))"
      ]
     },
     "execution_count": 25,
     "metadata": {},
     "output_type": "execute_result"
    }
   ],
   "source": [
    "X.shape, Xtrain.shape, Xtest.shape"
   ]
  },
  {
   "cell_type": "code",
   "execution_count": 26,
   "metadata": {},
   "outputs": [
    {
     "data": {
      "text/plain": [
       "((2877,), (2157,), (720,))"
      ]
     },
     "execution_count": 26,
     "metadata": {},
     "output_type": "execute_result"
    }
   ],
   "source": [
    "y.shape, ytrain.shape, ytest.shape"
   ]
  },
  {
   "attachments": {},
   "cell_type": "markdown",
   "metadata": {},
   "source": [
    "## Fitting a linear model"
   ]
  },
  {
   "attachments": {},
   "cell_type": "markdown",
   "metadata": {},
   "source": [
    "Lets start with fitting a linear model for regression. The linear model is one of the oldest and most used models for regression, due to its simplicity and strong statistical roots. A proper statistical approach to the understanding of the linear model consists of:\n",
    "\n",
    "- Understanding the statistical premises of the linear model;\n",
    "- Analyzing the features to verify that the preliminary conditions of this modeling strategy are satisfied;\n",
    "- Fitting the model;\n",
    "- Analyzing the residuals to confirm that the post-fit conditions are satisfied.\n",
    "\n",
    "Lets discuss these topics in more detail:"
   ]
  },
  {
   "attachments": {},
   "cell_type": "markdown",
   "metadata": {},
   "source": [
    "### The statistical approach to the linear model"
   ]
  },
  {
   "attachments": {},
   "cell_type": "markdown",
   "metadata": {},
   "source": [
    "In machine learning we are more interested in the predictive capability of a model, rather than its inductive use to analyze the relation between features and target (or independent and dependent variables, in the statistical terminology). But even to a machine learning practitioner, understanding the statistical basis of the linear model may lead to better predictive performance. For instance:\n",
    "\n",
    "- Having a symmetrical residual is usually associated with better mean-squared-error (MSE) than having a long-tailed assymmetric residual;\n",
    "- Non-significant parameters (in a hypothesis-testing sense) may indicate superfluous variables in the model, which could be associated with reduced performance in the test dataset (i.e. poor generalization).\n",
    "\n",
    "So what is the linear model in statistics? A statistical model is a way to describe probabilistically the relation between features and targets, usually in a parametric way.\n",
    "\n",
    "Mathematically, we are searching for a *conditional probability* density model of the form $f(Y = y | \\mathbf{x}, \\theta)$ where $\\mathbf{x}$ is the feature vector, $Y$ is the random variable associated with the target, and $\\theta$ is the vector of parameters. In plain language, we would like to describe the probability distribution of the target variable when the value of the feature vector is known and the parameters of the model are given.\n",
    "\n",
    "In the linear model, we postulate that the data $y$ is generated from the feature vector $\\mathbf{x}$ plus a random Gaussian noise of fixed standard deviation, as shown in the equation below:\n",
    "\n",
    "$$\n",
    "y = \\theta_0 + \\theta_1 x_1 + \\theta_2 x_2 + \\cdots + \\theta_n x_n + \\varepsilon\n",
    "$$\n",
    "\n",
    "where $\\varepsilon \\sim N(0, \\sigma)$\n",
    "\n",
    "The addition of the noise term causes the $y$ value to become a random variable itself, thus making the probabilistic model mentioned above. For a given value of $\\mathbf{x}$, the value of $y$ is obtained by adding the constant value $\\theta_0 + \\theta_1 x_1 + \\theta_2 x_2 + \\cdots + \\theta_n x_n$ to a normal random variable $\\varepsilon$. Remember that, for normal random variables, adding a constant keeps the variable normal, with a shifted mean-value parameter. Therefore:\n",
    "\n",
    "$$\n",
    "Y \\sim N(\\mu = (\\theta_0 + \\theta_1 x_1 + \\theta_2 x_2 + \\cdots + \\theta_n x_n), \\sigma)\n",
    "$$\n",
    "\n",
    "Lets write\n",
    "\n",
    "$$\n",
    "\\hat{y} = \\theta_0 + \\theta_1 x_1 + \\theta_2 x_2 + \\cdots + \\theta_n x_n\n",
    "$$\n",
    "\n",
    "for simplicity, then the model above is rewritten as:\n",
    "\n",
    "$$\n",
    "Y \\sim N(\\mu = \\hat{y}, \\sigma)\n",
    "$$\n",
    "\n",
    "When we have a dataset $D = \\{(\\mathbf{x}_1, y_1), (\\mathbf{x}_2, y_2), \\cdots, (\\mathbf{x}_m, y_m)\\}$ of several $(\\mathbf{x}, y)$ pairs, what is their joint conditional probability density function $f(y_1, y_2, \\cdots, y_m | x_1, x_2, \\cdots, x_n, \\theta)$?\n",
    "\n",
    "We will make another supposition of the linear model: that the $(\\mathbf{x}, y)$ examples were obtained independently, and that the value of one does not impact the probability of the other. Therefore:\n",
    "\n",
    "$$\n",
    "f(y_1, y_2, \\cdots, y_m | x_1, x_2, \\cdots, x_n, \\theta) = f(y_1| x_1, \\theta) f(y_2| x_2, \\theta) \\cdots f(y_m| x_m, \\theta) \n",
    "$$\n",
    "\n",
    "Remember that the normal probability density function is as follows:\n",
    "\n",
    "$$\n",
    "Y \\sim N(\\mu, \\sigma) \\Rightarrow f(y) = \\frac{1}{\\sigma \\sqrt{2 \\pi}} \\exp \\left(-\\frac{1}{2}\\frac{(y - \\mu)^2}{\\sigma^2} \\right)\n",
    "$$\n",
    "\n",
    "Thus:\n",
    "\n",
    "$$\n",
    "Y \\sim N(\\mu = \\hat{y}, \\sigma) \\Rightarrow f(y) = \\frac{1}{\\sigma \\sqrt{2 \\pi}} \\exp \\left(-\\frac{1}{2}\\frac{(y - \\hat{y})^2}{\\sigma^2} \\right)\n",
    "$$\n",
    "\n",
    "And the joint conditional probability density function of the entire dataset becomes:\n",
    "\n",
    "\n",
    "$$\n",
    "f(y_1, y_2, \\cdots, y_m | x_1, x_2, \\cdots, x_n, \\theta) = \\prod_{i=1}^{m} \\left(\\frac{1}{\\sigma \\sqrt{2 \\pi}} \\exp \\left(-\\frac{1}{2}\\frac{(y_i - \\hat{y_i})^2}{\\sigma^2} \\right) \\right)\n",
    "$$\n",
    "\n",
    "Expanding the product we have:\n",
    "\n",
    "$$\n",
    "\\begin{align*}\n",
    "f(y_1, y_2, \\cdots, y_m | x_1, x_2, \\cdots, x_n, \\theta) & = & \\prod_{i=1}^{m} \\left(\\frac{1}{\\sigma \\sqrt{2 \\pi}} \\exp \\left(-\\frac{1}{2}\\frac{(y_i - \\hat{y_i})^2}{\\sigma^2} \\right) \\right) \\\\\n",
    "& = & \\prod_{i=1}^{m} \\left(\\frac{1}{\\sigma \\sqrt{2 \\pi}} \\right) \\prod_{i=1}^{m} \\left( \\exp \\left(-\\frac{1}{2}\\frac{(y_i - \\hat{y_i})^2}{\\sigma^2} \\right) \\right) \\\\\n",
    "& = & \\left(\\frac{1}{\\sigma \\sqrt{2 \\pi}} \\right)^{m} \\exp \\left(\\sum_{i=1}^{m} \\left(-\\frac{1}{2}\\frac{(y_i - \\hat{y_i})^2}{\\sigma^2} \\right) \\right) \\\\\n",
    "& = & \\left(\\frac{1}{\\sigma \\sqrt{2 \\pi}} \\right)^{m} \\exp \\left(- \\frac{1}{2 \\sigma} \\sum_{i=1}^{m} (y_i - \\hat{y_i})^2 \\right)\n",
    "\\end{align*}\n",
    "$$\n",
    "\n",
    "What are the \"best\" value for the parameters of the linear model? We can search for the parameters that maximize the joint conditional probability density function of the dataset. This function is called the *likelihood* of the parameters, and therefore our solution here is called a *\"maximum likelihood estimate\"* of the parameters.\n",
    "\n",
    "So we are looking for a value $\\theta^{\\star}$ of $\\theta$ to maximize $f(y_1, y_2, \\cdots, y_m | x_1, x_2, \\cdots, x_n, \\theta)$, that is:\n",
    "\n",
    "$$\n",
    "\\begin{align*}\n",
    "\\theta^{\\star} & = & \\argmax_{\\theta} \\left\\{ f(y_1, y_2, \\cdots, y_m | x_1, x_2, \\cdots, x_n, \\theta) \\right\\}\\\\\n",
    "& = & \\argmax_{\\theta} \\left\\{ \\left(\\frac{1}{\\sigma \\sqrt{2 \\pi}} \\right)^{m} \\exp \\left(- \\frac{1}{2 \\sigma} \\sum_{i=1}^{m} (y_i - \\hat{y_i})^2 \\right) \\right\\} \\\\\n",
    "& = & \\argmax_{\\theta} \\left\\{ \\exp \\left(- \\frac{1}{2 \\sigma} \\sum_{i=1}^{m} (y_i - \\hat{y_i})^2 \\right) \\right\\} \\\\\n",
    "& = & \\argmax_{\\theta} \\left\\{ - \\frac{1}{2 \\sigma} \\sum_{i=1}^{m} (y_i - \\hat{y_i})^2 \\right\\} \\\\\n",
    "& = & \\argmin_{\\theta} \\left\\{ \\frac{1}{2 \\sigma} \\sum_{i=1}^{m} (y_i - \\hat{y_i})^2 \\right\\} \\\\\n",
    "& = & \\argmin_{\\theta} \\left\\{ \\sum_{i=1}^{m} (y_i - \\hat{y_i})^2 \\right\\} \\\\\n",
    "& = & \\argmin_{\\theta} \\left\\{ \\frac{1}{m} \\sum_{i=1}^{m} (y_i - \\hat{y_i})^2 \\right\\} \\\\\n",
    "\\end{align*}\n",
    "$$\n",
    "\n",
    "Hey, look who we found! Our old friend MSE (mean-squared-error)!\n",
    "\n",
    "So, in the end, here are the lessons:\n",
    "\n",
    "- The statistical formulation of the linear model leads to the same error formulation of machine learning, which only cares for the prediction quality.\n",
    "- The statistical linear model has several assumptions:\n",
    "    - The samples are independent;\n",
    "    - The target is *truly* generated from the linear predictive formula plus a normally-distributed error;\n",
    "    - The error has zero mean and constant standard deviation (the *homoscedasticity* hypothesis);\n",
    "    - There is no error in the feature measurement. That is, $\\mathbf{x}_{i}$ are constants, not random variables. All the error is in the target;\n",
    "- If the assumptions of the linear model are satisfied, you can analyze the parameters with greater sophistication (the machine learning formulation does not bring this finesse). For instance, you can run hypothesis tests on the values of the parameters to determine whether they refute the null hypothesis $\\theta_i = 0$ with a given statistical significance level. Which, in plain language, means that you don't really trust that the associated feature impacts the target, or if it is just an accident."
   ]
  },
  {
   "cell_type": "code",
   "execution_count": 27,
   "metadata": {},
   "outputs": [],
   "source": [
    "from sklearn.linear_model import LinearRegression, Ridge, Lasso, ElasticNet"
   ]
  },
  {
   "cell_type": "code",
   "execution_count": 28,
   "metadata": {},
   "outputs": [
    {
     "data": {
      "text/html": [
       "<style>#sk-container-id-1 {color: black;}#sk-container-id-1 pre{padding: 0;}#sk-container-id-1 div.sk-toggleable {background-color: white;}#sk-container-id-1 label.sk-toggleable__label {cursor: pointer;display: block;width: 100%;margin-bottom: 0;padding: 0.3em;box-sizing: border-box;text-align: center;}#sk-container-id-1 label.sk-toggleable__label-arrow:before {content: \"▸\";float: left;margin-right: 0.25em;color: #696969;}#sk-container-id-1 label.sk-toggleable__label-arrow:hover:before {color: black;}#sk-container-id-1 div.sk-estimator:hover label.sk-toggleable__label-arrow:before {color: black;}#sk-container-id-1 div.sk-toggleable__content {max-height: 0;max-width: 0;overflow: hidden;text-align: left;background-color: #f0f8ff;}#sk-container-id-1 div.sk-toggleable__content pre {margin: 0.2em;color: black;border-radius: 0.25em;background-color: #f0f8ff;}#sk-container-id-1 input.sk-toggleable__control:checked~div.sk-toggleable__content {max-height: 200px;max-width: 100%;overflow: auto;}#sk-container-id-1 input.sk-toggleable__control:checked~label.sk-toggleable__label-arrow:before {content: \"▾\";}#sk-container-id-1 div.sk-estimator input.sk-toggleable__control:checked~label.sk-toggleable__label {background-color: #d4ebff;}#sk-container-id-1 div.sk-label input.sk-toggleable__control:checked~label.sk-toggleable__label {background-color: #d4ebff;}#sk-container-id-1 input.sk-hidden--visually {border: 0;clip: rect(1px 1px 1px 1px);clip: rect(1px, 1px, 1px, 1px);height: 1px;margin: -1px;overflow: hidden;padding: 0;position: absolute;width: 1px;}#sk-container-id-1 div.sk-estimator {font-family: monospace;background-color: #f0f8ff;border: 1px dotted black;border-radius: 0.25em;box-sizing: border-box;margin-bottom: 0.5em;}#sk-container-id-1 div.sk-estimator:hover {background-color: #d4ebff;}#sk-container-id-1 div.sk-parallel-item::after {content: \"\";width: 100%;border-bottom: 1px solid gray;flex-grow: 1;}#sk-container-id-1 div.sk-label:hover label.sk-toggleable__label {background-color: #d4ebff;}#sk-container-id-1 div.sk-serial::before {content: \"\";position: absolute;border-left: 1px solid gray;box-sizing: border-box;top: 0;bottom: 0;left: 50%;z-index: 0;}#sk-container-id-1 div.sk-serial {display: flex;flex-direction: column;align-items: center;background-color: white;padding-right: 0.2em;padding-left: 0.2em;position: relative;}#sk-container-id-1 div.sk-item {position: relative;z-index: 1;}#sk-container-id-1 div.sk-parallel {display: flex;align-items: stretch;justify-content: center;background-color: white;position: relative;}#sk-container-id-1 div.sk-item::before, #sk-container-id-1 div.sk-parallel-item::before {content: \"\";position: absolute;border-left: 1px solid gray;box-sizing: border-box;top: 0;bottom: 0;left: 50%;z-index: -1;}#sk-container-id-1 div.sk-parallel-item {display: flex;flex-direction: column;z-index: 1;position: relative;background-color: white;}#sk-container-id-1 div.sk-parallel-item:first-child::after {align-self: flex-end;width: 50%;}#sk-container-id-1 div.sk-parallel-item:last-child::after {align-self: flex-start;width: 50%;}#sk-container-id-1 div.sk-parallel-item:only-child::after {width: 0;}#sk-container-id-1 div.sk-dashed-wrapped {border: 1px dashed gray;margin: 0 0.4em 0.5em 0.4em;box-sizing: border-box;padding-bottom: 0.4em;background-color: white;}#sk-container-id-1 div.sk-label label {font-family: monospace;font-weight: bold;display: inline-block;line-height: 1.2em;}#sk-container-id-1 div.sk-label-container {text-align: center;}#sk-container-id-1 div.sk-container {/* jupyter's `normalize.less` sets `[hidden] { display: none; }` but bootstrap.min.css set `[hidden] { display: none !important; }` so we also need the `!important` here to be able to override the default hidden behavior on the sphinx rendered scikit-learn.org. See: https://github.com/scikit-learn/scikit-learn/issues/21755 */display: inline-block !important;position: relative;}#sk-container-id-1 div.sk-text-repr-fallback {display: none;}</style><div id=\"sk-container-id-1\" class=\"sk-top-container\"><div class=\"sk-text-repr-fallback\"><pre>ElasticNet()</pre><b>In a Jupyter environment, please rerun this cell to show the HTML representation or trust the notebook. <br />On GitHub, the HTML representation is unable to render, please try loading this page with nbviewer.org.</b></div><div class=\"sk-container\" hidden><div class=\"sk-item\"><div class=\"sk-estimator sk-toggleable\"><input class=\"sk-toggleable__control sk-hidden--visually\" id=\"sk-estimator-id-1\" type=\"checkbox\" checked><label for=\"sk-estimator-id-1\" class=\"sk-toggleable__label sk-toggleable__label-arrow\">ElasticNet</label><div class=\"sk-toggleable__content\"><pre>ElasticNet()</pre></div></div></div></div></div>"
      ],
      "text/plain": [
       "ElasticNet()"
      ]
     },
     "execution_count": 28,
     "metadata": {},
     "output_type": "execute_result"
    }
   ],
   "source": [
    "# Teste com todos os modelos\n",
    "\n",
    "linreg = LinearRegression()\n",
    "ridge = Ridge()\n",
    "lasso = Lasso()\n",
    "elasticNet = ElasticNet()\n",
    "\n",
    "linreg.fit(Xtrain, ytrain)\n",
    "ridge.fit(Xtrain, ytrain)\n",
    "lasso.fit(Xtrain, ytrain)\n",
    "elasticNet.fit(Xtrain, ytrain)"
   ]
  },
  {
   "cell_type": "code",
   "execution_count": 29,
   "metadata": {},
   "outputs": [],
   "source": [
    "pred_linreg = linreg.predict(Xtest)\n",
    "pred_ridge = ridge.predict(Xtest)\n",
    "pred_lasso = lasso.predict(Xtest)\n",
    "pred_elasticNet = elasticNet.predict(Xtest)"
   ]
  },
  {
   "cell_type": "code",
   "execution_count": 30,
   "metadata": {},
   "outputs": [],
   "source": [
    "from sklearn.metrics import mean_squared_error\n",
    "\n",
    "RMSE_lin = np.sqrt(mean_squared_error(ytest, pred_linreg))\n",
    "RMSE_ridge = np.sqrt(mean_squared_error(ytest, pred_ridge))\n",
    "RMSE_lasso = np.sqrt(mean_squared_error(ytest, pred_lasso))\n",
    "RMSE_elasticNet = np.sqrt(mean_squared_error(ytest, pred_elasticNet))\n"
   ]
  },
  {
   "cell_type": "code",
   "execution_count": 31,
   "metadata": {},
   "outputs": [
    {
     "name": "stdout",
     "output_type": "stream",
     "text": [
      "Average error for LinearRegression is 38759319810481081068002167750656.00%\n",
      "Average error for Ridge is 15.10%\n",
      "Average error for Lasso is 27.56%\n",
      "Average error for ElasticNet is 25.21%\n"
     ]
    }
   ],
   "source": [
    "error_percent = 100 * (10**RMSE_lin - 1)\n",
    "print(f'Average error for LinearRegression is {error_percent:.2f}%')\n",
    "\n",
    "error_percent = 100 * (10**RMSE_ridge - 1)\n",
    "print(f'Average error for Ridge is {error_percent:.2f}%')\n",
    "\n",
    "error_percent = 100 * (10**RMSE_lasso - 1)\n",
    "print(f'Average error for Lasso is {error_percent:.2f}%')\n",
    "\n",
    "error_percent = 100 * (10**RMSE_elasticNet - 1)\n",
    "print(f'Average error for ElasticNet is {error_percent:.2f}%')"
   ]
  },
  {
   "cell_type": "code",
   "execution_count": 32,
   "metadata": {},
   "outputs": [
    {
     "name": "stdout",
     "output_type": "stream",
     "text": [
      "Average error for LinearRegression Pipeline is 22.36%\n"
     ]
    }
   ],
   "source": [
    "from sklearn.discriminant_analysis import StandardScaler\n",
    "from sklearn.pipeline import Pipeline\n",
    "from sklearn.preprocessing import PolynomialFeatures\n",
    "\n",
    "pipeLin = Pipeline([\n",
    "    ('scaler', StandardScaler()),\n",
    "    ('poly', PolynomialFeatures(degree=2, include_bias=False)),\n",
    "    ('cls', LinearRegression())\n",
    "])\n",
    "\n",
    "pipeLin.fit(Xtrain,ytrain)\n",
    "pred_pipeLin = pipeLin.predict(Xtest)\n",
    "\n",
    "\n",
    "from sklearn.metrics import mean_squared_error\n",
    "\n",
    "RMSE_pipeLin = np.sqrt(mean_squared_error(ytest, pred_pipeLin))\n",
    "\n",
    "error_percent = 100 * (10**RMSE_pipeLin - 1)\n",
    "print(f'Average error for LinearRegression Pipeline is {error_percent:.2f}%')"
   ]
  },
  {
   "cell_type": "code",
   "execution_count": 33,
   "metadata": {},
   "outputs": [
    {
     "name": "stdout",
     "output_type": "stream",
     "text": [
      "Average error for Ridge Pipeline is 21.62%\n"
     ]
    }
   ],
   "source": [
    "from sklearn.discriminant_analysis import StandardScaler\n",
    "from sklearn.pipeline import Pipeline\n",
    "from sklearn.preprocessing import PolynomialFeatures\n",
    "\n",
    "pipeRidge = Pipeline([\n",
    "    ('scaler', StandardScaler()),\n",
    "    ('poly', PolynomialFeatures(degree=2, include_bias=False)),\n",
    "    ('cls', Ridge())\n",
    "])\n",
    "\n",
    "pipeRidge.fit(Xtrain,ytrain)\n",
    "pred_pipeRidge = pipeRidge.predict(Xtest)\n",
    "\n",
    "\n",
    "from sklearn.metrics import mean_squared_error\n",
    "\n",
    "RMSE_pipeRidge = np.sqrt(mean_squared_error(ytest, pred_pipeRidge))\n",
    "\n",
    "error_percent = 100 * (10**RMSE_pipeRidge - 1)\n",
    "print(f'Average error for Ridge Pipeline is {error_percent:.2f}%')"
   ]
  },
  {
   "cell_type": "markdown",
   "metadata": {},
   "source": [
    "**STDScaler** - \n",
    "\n",
    "Lot.Area\n",
    "\n",
    "X1st.Flr.SF\n",
    "\n",
    "Bsmt.Unf.SF\n",
    "\n",
    "Total.Bsmt.SF\n",
    "\n",
    "Lot.Frontage\n",
    "\n",
    "-------------------------------------------------------------------------------------\n",
    "\n",
    "**Year.Remod** - Fazer coluna de se teve remodelling ou não e retirar o House Age\n",
    "\n",
    "-------------------------------------------------------------------------------------\n",
    "\n",
    "**Droppar** - \n",
    "\n",
    "Low.Qual.Fin\n",
    "\n",
    "X2nd.Flr.SF\n",
    "\n",
    "3ssn.Porch\n",
    "\n",
    "BsmtFin.SF.2\n",
    "\n",
    "Bsmt.Half.Bath\n",
    "\n",
    "Mas.Vnr.Area\n",
    "\n",
    "-------------------------------------------------------------------------------------\n",
    "\n",
    "**Enclosed.Porch** - Tem ou não Tem\n",
    "\n",
    "-------------------------------------------------------------------------------------\n",
    "\n",
    "**Screen.Porc** - Tem ou não tem"
   ]
  },
  {
   "cell_type": "code",
   "execution_count": 34,
   "metadata": {},
   "outputs": [],
   "source": [
    "X = model_data.drop(columns=['SalePrice', 'Low.Qual.Fin.SF', 'X2nd.Flr.SF', 'X3Ssn.Porch', 'BsmtFin.SF.2', 'Bsmt.Half.Bath', 'Mas.Vnr.Area']).copy()\n",
    "y = model_data['SalePrice'].copy()"
   ]
  },
  {
   "cell_type": "code",
   "execution_count": 35,
   "metadata": {},
   "outputs": [
    {
     "data": {
      "text/plain": [
       "['Lot.Frontage',\n",
       " 'Lot.Area',\n",
       " 'Lot.Shape',\n",
       " 'Land.Slope',\n",
       " 'Overall.Qual',\n",
       " 'Overall.Cond',\n",
       " 'Exter.Qual',\n",
       " 'Exter.Cond',\n",
       " 'BsmtFin.SF.1',\n",
       " 'Bsmt.Unf.SF',\n",
       " 'Total.Bsmt.SF',\n",
       " 'Heating.QC',\n",
       " 'Electrical',\n",
       " 'X1st.Flr.SF',\n",
       " 'Gr.Liv.Area',\n",
       " 'Bsmt.Full.Bath',\n",
       " 'Full.Bath',\n",
       " 'Half.Bath',\n",
       " 'Bedroom.AbvGr',\n",
       " 'Kitchen.AbvGr',\n",
       " 'Kitchen.Qual',\n",
       " 'TotRms.AbvGrd',\n",
       " 'Functional',\n",
       " 'Fireplaces',\n",
       " 'Garage.Cars',\n",
       " 'Garage.Area',\n",
       " 'Paved.Drive',\n",
       " 'Wood.Deck.SF',\n",
       " 'Open.Porch.SF',\n",
       " 'Enclosed.Porch',\n",
       " 'Screen.Porch',\n",
       " 'Pool.Area',\n",
       " 'Fence',\n",
       " 'Misc.Val',\n",
       " 'Mo.Sold',\n",
       " 'Yr.Sold',\n",
       " 'HasShed',\n",
       " 'HasAlley',\n",
       " 'Garage.Age',\n",
       " 'Remod.Age',\n",
       " 'House.Age',\n",
       " 'MS.SubClass_30',\n",
       " 'MS.SubClass_50',\n",
       " 'MS.SubClass_60',\n",
       " 'MS.SubClass_70',\n",
       " 'MS.SubClass_80',\n",
       " 'MS.SubClass_85',\n",
       " 'MS.SubClass_90',\n",
       " 'MS.SubClass_120',\n",
       " 'MS.SubClass_160',\n",
       " 'MS.SubClass_190',\n",
       " 'MS.SubClass_Other',\n",
       " 'MS.Zoning_RH',\n",
       " 'MS.Zoning_RL',\n",
       " 'MS.Zoning_RM',\n",
       " 'Land.Contour_HLS',\n",
       " 'Land.Contour_Low',\n",
       " 'Land.Contour_Lvl',\n",
       " 'Lot.Config_CulDSac',\n",
       " 'Lot.Config_FR2',\n",
       " 'Lot.Config_FR3',\n",
       " 'Lot.Config_Inside',\n",
       " 'Neighborhood_BrDale',\n",
       " 'Neighborhood_BrkSide',\n",
       " 'Neighborhood_ClearCr',\n",
       " 'Neighborhood_CollgCr',\n",
       " 'Neighborhood_Crawfor',\n",
       " 'Neighborhood_Edwards',\n",
       " 'Neighborhood_Gilbert',\n",
       " 'Neighborhood_IDOTRR',\n",
       " 'Neighborhood_MeadowV',\n",
       " 'Neighborhood_Mitchel',\n",
       " 'Neighborhood_NAmes',\n",
       " 'Neighborhood_NPkVill',\n",
       " 'Neighborhood_NWAmes',\n",
       " 'Neighborhood_NoRidge',\n",
       " 'Neighborhood_NridgHt',\n",
       " 'Neighborhood_OldTown',\n",
       " 'Neighborhood_SWISU',\n",
       " 'Neighborhood_Sawyer',\n",
       " 'Neighborhood_SawyerW',\n",
       " 'Neighborhood_Somerst',\n",
       " 'Neighborhood_StoneBr',\n",
       " 'Neighborhood_Timber',\n",
       " 'Neighborhood_Veenker',\n",
       " 'Bldg.Type_2fmCon',\n",
       " 'Bldg.Type_Duplex',\n",
       " 'Bldg.Type_Twnhs',\n",
       " 'Bldg.Type_TwnhsE',\n",
       " 'House.Style_1.5Unf',\n",
       " 'House.Style_1Story',\n",
       " 'House.Style_2.5Fin',\n",
       " 'House.Style_2.5Unf',\n",
       " 'House.Style_2Story',\n",
       " 'House.Style_SFoyer',\n",
       " 'House.Style_SLvl',\n",
       " 'Roof.Style_Hip',\n",
       " 'Roof.Style_Other',\n",
       " 'Mas.Vnr.Type_Stone',\n",
       " 'Mas.Vnr.Type_Other',\n",
       " 'Mas.Vnr.Type_None',\n",
       " 'Foundation_CBlock',\n",
       " 'Foundation_PConc',\n",
       " 'Foundation_Other',\n",
       " 'Bsmt.Qual_Gd',\n",
       " 'Bsmt.Qual_TA',\n",
       " 'Bsmt.Qual_Fa',\n",
       " 'Bsmt.Qual_NA',\n",
       " 'Bsmt.Cond_TA',\n",
       " 'Bsmt.Cond_Fa',\n",
       " 'Bsmt.Cond_NA',\n",
       " 'Bsmt.Exposure_Av',\n",
       " 'Bsmt.Exposure_Mn',\n",
       " 'Bsmt.Exposure_No',\n",
       " 'Bsmt.Exposure_NA',\n",
       " 'BsmtFin.Type.1_ALQ',\n",
       " 'BsmtFin.Type.1_BLQ',\n",
       " 'BsmtFin.Type.1_Rec',\n",
       " 'BsmtFin.Type.1_LwQ',\n",
       " 'BsmtFin.Type.1_Unf',\n",
       " 'BsmtFin.Type.1_NA',\n",
       " 'BsmtFin.Type.2_ALQ',\n",
       " 'BsmtFin.Type.2_BLQ',\n",
       " 'BsmtFin.Type.2_Rec',\n",
       " 'BsmtFin.Type.2_LwQ',\n",
       " 'BsmtFin.Type.2_Unf',\n",
       " 'BsmtFin.Type.2_NA',\n",
       " 'Central.Air_Y',\n",
       " 'Garage.Type_Attchd',\n",
       " 'Garage.Type_Basment',\n",
       " 'Garage.Type_BuiltIn',\n",
       " 'Garage.Type_CarPort',\n",
       " 'Garage.Type_Detchd',\n",
       " 'Garage.Type_NoGarage',\n",
       " 'Garage.Finish_RFn',\n",
       " 'Garage.Finish_Unf',\n",
       " 'Garage.Finish_NoGarage',\n",
       " 'Sale.Type_GroupedWD',\n",
       " 'Sale.Type_Other',\n",
       " 'Sale.Condition_AdjLand',\n",
       " 'Sale.Condition_Alloca',\n",
       " 'Sale.Condition_Family',\n",
       " 'Sale.Condition_Normal',\n",
       " 'Sale.Condition_Partial',\n",
       " 'Condition_Railroad',\n",
       " 'Condition_Roads',\n",
       " 'Condition_Positive',\n",
       " 'Condition_RoadsAndRailroad',\n",
       " 'Exterior_BrkFace',\n",
       " 'Exterior_CemntBd',\n",
       " 'Exterior_HdBoard',\n",
       " 'Exterior_MetalSd',\n",
       " 'Exterior_Plywood',\n",
       " 'Exterior_Stucco',\n",
       " 'Exterior_VinylSd',\n",
       " 'Exterior_Wd Sdng',\n",
       " 'Exterior_WdShing',\n",
       " 'Exterior_Other']"
      ]
     },
     "execution_count": 35,
     "metadata": {},
     "output_type": "execute_result"
    }
   ],
   "source": [
    "list(X.columns)"
   ]
  },
  {
   "cell_type": "code",
   "execution_count": 36,
   "metadata": {},
   "outputs": [
    {
     "data": {
      "text/plain": [
       "0       0.0\n",
       "1       0.0\n",
       "2       0.0\n",
       "3       0.0\n",
       "4       0.0\n",
       "       ... \n",
       "2925    0.0\n",
       "2926    0.0\n",
       "2927    0.0\n",
       "2928    0.0\n",
       "2929    0.0\n",
       "Name: Enclosed.Porch, Length: 2877, dtype: float64"
      ]
     },
     "execution_count": 36,
     "metadata": {},
     "output_type": "execute_result"
    }
   ],
   "source": [
    "X['Enclosed.Porch']"
   ]
  },
  {
   "cell_type": "code",
   "execution_count": 37,
   "metadata": {},
   "outputs": [
    {
     "data": {
      "text/plain": [
       "0         0.0\n",
       "1       120.0\n",
       "2         0.0\n",
       "3         0.0\n",
       "4         0.0\n",
       "        ...  \n",
       "2925      0.0\n",
       "2926      0.0\n",
       "2927      0.0\n",
       "2928      0.0\n",
       "2929      0.0\n",
       "Name: Screen.Porch, Length: 2877, dtype: float64"
      ]
     },
     "execution_count": 37,
     "metadata": {},
     "output_type": "execute_result"
    }
   ],
   "source": [
    "X['Screen.Porch']"
   ]
  },
  {
   "cell_type": "code",
   "execution_count": 38,
   "metadata": {},
   "outputs": [
    {
     "data": {
      "text/plain": [
       "array([ True,  True,  True, ...,  True,  True,  True])"
      ]
     },
     "execution_count": 38,
     "metadata": {},
     "output_type": "execute_result"
    }
   ],
   "source": [
    "M = X.to_numpy()\n",
    "\n",
    "M[:, 29] == np.zeros(M[:, 29].shape)"
   ]
  },
  {
   "cell_type": "markdown",
   "metadata": {},
   "source": [
    "Criar coluna se a casa foi reformada ou não \n",
    "\n",
    "\n",
    "Drop a coluna de idade de reforma \n",
    "\n",
    "\n",
    "Verificar as colunas para aplicar o stdsc \n",
    "\n",
    "\n",
    "Garage age = garageage/houseage\n",
    "\n",
    "\n",
    "Garage cars drop\n",
    "\n",
    "\n",
    "Bsmt Unf SF dividido por BsmtFin SF 1"
   ]
  },
  {
   "cell_type": "code",
   "execution_count": 39,
   "metadata": {},
   "outputs": [
    {
     "data": {
      "text/plain": [
       "('House.Age',\n",
       " 'Remod.Age',\n",
       " 'Enclosed.Porch',\n",
       " 'Screen.Porch',\n",
       " 'Garage.Cars',\n",
       " 'Garage.Age',\n",
       " 'Bsmt.Unf.SF',\n",
       " 'BsmtFin.SF.1')"
      ]
     },
     "execution_count": 39,
     "metadata": {},
     "output_type": "execute_result"
    }
   ],
   "source": [
    "\"House.Age\", \"Remod.Age\", \"Enclosed.Porch\", \"Screen.Porch\", \"Garage.Cars\", \"Garage.Age\", \"Bsmt.Unf.SF\", \"BsmtFin.SF.1\""
   ]
  },
  {
   "cell_type": "code",
   "execution_count": 40,
   "metadata": {},
   "outputs": [
    {
     "data": {
      "text/plain": [
       "(40, 39, 29, 30, 24, 38, 9, 8)"
      ]
     },
     "execution_count": 40,
     "metadata": {},
     "output_type": "execute_result"
    }
   ],
   "source": [
    "list(X.columns).index(\"House.Age\"), list(X.columns).index(\"Remod.Age\"), list(X.columns).index(\"Enclosed.Porch\"), list(X.columns).index(\"Screen.Porch\"), list(X.columns).index(\"Garage.Cars\"), list(X.columns).index(\"Garage.Age\"), list(X.columns).index(\"Bsmt.Unf.SF\"), list(X.columns).index(\"BsmtFin.SF.1\")"
   ]
  },
  {
   "cell_type": "code",
   "execution_count": 83,
   "metadata": {},
   "outputs": [],
   "source": [
    "from sklearn.model_selection import train_test_split\n",
    "RANDOM_SEED = 42  # Any number here, really.\n",
    "\n",
    "Xtrain, Xtest, ytrain, ytest = train_test_split(\n",
    "    X,\n",
    "    y,\n",
    "    test_size=0.25,\n",
    "    random_state=RANDOM_SEED,\n",
    ")"
   ]
  },
  {
   "cell_type": "code",
   "execution_count": 71,
   "metadata": {},
   "outputs": [
    {
     "name": "stdout",
     "output_type": "stream",
     "text": [
      "Average error for Ridge is 15.03%\n"
     ]
    }
   ],
   "source": [
    "from sklearn.metrics import mean_squared_error\n",
    "\n",
    "ridge = Ridge()\n",
    "\n",
    "ridge.fit(Xtrain, ytrain)\n",
    "\n",
    "pred_ridge = ridge.predict(Xtest)\n",
    "\n",
    "RMSE_ridge = np.sqrt(mean_squared_error(ytest, pred_ridge))\n",
    "\n",
    "error_percent = 100 * (10**RMSE_ridge - 1)\n",
    "print(f'Average error for Ridge is {error_percent:.2f}%')"
   ]
  },
  {
   "cell_type": "code",
   "execution_count": 72,
   "metadata": {},
   "outputs": [
    {
     "name": "stdout",
     "output_type": "stream",
     "text": [
      "Average error for Ridge Pipeline is 22.55%\n"
     ]
    }
   ],
   "source": [
    "from sklearn.discriminant_analysis import StandardScaler\n",
    "from sklearn.pipeline import Pipeline\n",
    "from sklearn.preprocessing import PolynomialFeatures\n",
    "\n",
    "pipeRidge = Pipeline([\n",
    "    ('scaler', StandardScaler()),\n",
    "    ('poly', PolynomialFeatures(degree=2, include_bias=False)),\n",
    "    ('cls', Ridge())\n",
    "])\n",
    "\n",
    "pipeRidge.fit(Xtrain,ytrain)\n",
    "pred_pipeRidge = pipeRidge.predict(Xtest)\n",
    "\n",
    "\n",
    "from sklearn.metrics import mean_squared_error\n",
    "\n",
    "RMSE_pipeRidge = np.sqrt(mean_squared_error(ytest, pred_pipeRidge))\n",
    "\n",
    "error_percent = 100 * (10**RMSE_pipeRidge - 1)\n",
    "print(f'Average error for Ridge Pipeline is {error_percent:.2f}%')"
   ]
  },
  {
   "cell_type": "code",
   "execution_count": 84,
   "metadata": {},
   "outputs": [
    {
     "data": {
      "text/plain": [
       "(2157, 160)"
      ]
     },
     "execution_count": 84,
     "metadata": {},
     "output_type": "execute_result"
    }
   ],
   "source": [
    "from sklearn.base import BaseEstimator, TransformerMixin\n",
    "from sklearn.compose import ColumnTransformer\n",
    "\n",
    "class CombinedAttributesAdder(BaseEstimator, TransformerMixin):\n",
    "    # Column index.\n",
    "    house_age, remodel, enclosed, screen, garage_cars, garage_age, bsmt_unf, bsmt_fin = \"House.Age\", \"Remod.Age\", \"Enclosed.Porch\", \"Screen.Porch\", \"Garage.Cars\", \"Garage.Age\", \"Bsmt.Unf.SF\", \"BsmtFin.SF.1\"\n",
    "    \n",
    "    def __init__(self):  # No *args or **kwargs.\n",
    "        pass\n",
    "            \n",
    "    def fit(self, X, y=None):\n",
    "        return self  # Nothing else to do.\n",
    "\n",
    "    def transform(self, X, y=None):\n",
    "\n",
    "        df = X.copy()\n",
    "\n",
    "        df['has_remodel'] = \\\n",
    "            df[CombinedAttributesAdder.remodel] == df[CombinedAttributesAdder.house_age]\n",
    "        \n",
    "        df['has_enclosed_porch'] = \\\n",
    "            df[CombinedAttributesAdder.enclosed].to_numpy() == np.zeros(df[CombinedAttributesAdder.enclosed].shape)\n",
    "\n",
    "        df['has_screen_porch'] = \\\n",
    "            df[CombinedAttributesAdder.screen].to_numpy() == np.zeros(df[CombinedAttributesAdder.screen].shape)\n",
    "        \n",
    "        df['garage_by_house_age'] = \\\n",
    "            df[CombinedAttributesAdder.garage_age] / df[CombinedAttributesAdder.house_age]\n",
    "        \n",
    "        df['bsmt_unf_by_fin'] = \\\n",
    "            df[CombinedAttributesAdder.bsmt_unf] / df[CombinedAttributesAdder.bsmt_fin]\n",
    "        \n",
    "        df = df.drop(columns = [\"Remod.Age\", \"Enclosed.Porch\", \"Screen.Porch\", \"Garage.Cars\", \"Bsmt.Unf.SF\", \"BsmtFin.SF.1\"])\n",
    "\n",
    "        return df.astype(float)\n",
    "    \n",
    "\n",
    "\n",
    "columns_std = ['X1st.Flr.SF','Total.Bsmt.SF','Lot.Frontage']\n",
    "\n",
    "\n",
    "all_columns = list(X.columns)\n",
    "\n",
    "adder = Pipeline([\n",
    "        ('attribs_adder', CombinedAttributesAdder()),\n",
    "    ])\n",
    "\n",
    "finishing = Pipeline([\n",
    "        ('poly', PolynomialFeatures(degree=2, include_bias=False))\n",
    "    ])\n",
    "\n",
    "full_pipeline = ColumnTransformer([\n",
    "        (\"scaler\", StandardScaler(), columns_std),\n",
    "        (\"transform\", adder, X.columns)\n",
    "    ], remainder=\"passthrough\")\n",
    "\n",
    "Xtrain_transformed = full_pipeline.fit_transform(Xtrain)\n",
    "\n",
    "Xtrain_transformed.shape\n",
    "\n",
    "# pipeRidge = Pipeline([\n",
    "#     # ('scaler', StandardScaler()),\n",
    "#     ('poly', PolynomialFeatures(degree=2, include_bias=False)),\n",
    "#     ('cls', Ridge())\n",
    "# ])\n",
    "\n",
    "# pipeRidge.fit(Xtrain_transformed,ytrain)\n",
    "\n",
    "# Xtest_transformed = full_pipeline.transform(Xtest)\n",
    "# pred_pipeRidge = pipeRidge.predict(Xtest_transformed)\n",
    "\n",
    "\n",
    "# from sklearn.metrics import mean_squared_error\n",
    "\n",
    "# RMSE_pipeRidge = np.sqrt(mean_squared_error(ytest, pred_pipeRidge))\n",
    "\n",
    "# error_percent = 100 * (10**RMSE_pipeRidge - 1)\n",
    "# print(f'Average error for Ridge Pipeline is {error_percent:.2f}%')"
   ]
  },
  {
   "cell_type": "code",
   "execution_count": 45,
   "metadata": {},
   "outputs": [
    {
     "data": {
      "text/plain": [
       "array([[-0.13746726,  0.45301543,  1.75314085, ...,  1.        ,\n",
       "         0.        ,         inf],\n",
       "       [-0.2212866 , -0.54188073, -1.26865837, ...,  1.        ,\n",
       "         1.        ,  0.        ],\n",
       "       [-0.37778928,  0.19584906, -0.25686492, ...,  1.        ,\n",
       "         1.        ,  0.96129032],\n",
       "       ...,\n",
       "       [ 0.33766863, -0.64578633, -0.87254237, ...,  0.        ,\n",
       "         1.        ,  0.23744912],\n",
       "       [-0.49669299, -0.71852026,  0.02607508, ...,  1.        ,\n",
       "         0.27184466,         inf],\n",
       "       [-0.09256405, -0.26912852, -0.548859  , ...,  1.        ,\n",
       "         0.91666667,  0.43031123]])"
      ]
     },
     "execution_count": 45,
     "metadata": {},
     "output_type": "execute_result"
    }
   ],
   "source": [
    "Xtrain_transformed"
   ]
  },
  {
   "cell_type": "code",
   "execution_count": 90,
   "metadata": {},
   "outputs": [
    {
     "data": {
      "text/html": [
       "<div>\n",
       "<style scoped>\n",
       "    .dataframe tbody tr th:only-of-type {\n",
       "        vertical-align: middle;\n",
       "    }\n",
       "\n",
       "    .dataframe tbody tr th {\n",
       "        vertical-align: top;\n",
       "    }\n",
       "\n",
       "    .dataframe thead th {\n",
       "        text-align: right;\n",
       "    }\n",
       "</style>\n",
       "<table border=\"1\" class=\"dataframe\">\n",
       "  <thead>\n",
       "    <tr style=\"text-align: right;\">\n",
       "      <th></th>\n",
       "      <th>Lot.Frontage</th>\n",
       "      <th>Mas.Vnr.Area</th>\n",
       "      <th>BsmtFin.SF.1</th>\n",
       "      <th>Total.Bsmt.SF</th>\n",
       "      <th>X1st.Flr.SF</th>\n",
       "      <th>Gr.Liv.Area</th>\n",
       "      <th>Full.Bath</th>\n",
       "      <th>TotRms.AbvGrd</th>\n",
       "      <th>Fireplaces</th>\n",
       "      <th>Garage.Cars</th>\n",
       "      <th>Garage.Area</th>\n",
       "      <th>Garage.Age</th>\n",
       "      <th>Remod.Age</th>\n",
       "      <th>House.Age</th>\n",
       "    </tr>\n",
       "  </thead>\n",
       "  <tbody>\n",
       "    <tr>\n",
       "      <th>0</th>\n",
       "      <td>141.0</td>\n",
       "      <td>112.0</td>\n",
       "      <td>639.0</td>\n",
       "      <td>1080.0</td>\n",
       "      <td>1656.0</td>\n",
       "      <td>1656.0</td>\n",
       "      <td>1.0</td>\n",
       "      <td>7.0</td>\n",
       "      <td>2.0</td>\n",
       "      <td>2.0</td>\n",
       "      <td>528.0</td>\n",
       "      <td>50.0</td>\n",
       "      <td>50.0</td>\n",
       "      <td>50.0</td>\n",
       "    </tr>\n",
       "    <tr>\n",
       "      <th>1</th>\n",
       "      <td>80.0</td>\n",
       "      <td>0.0</td>\n",
       "      <td>468.0</td>\n",
       "      <td>882.0</td>\n",
       "      <td>896.0</td>\n",
       "      <td>896.0</td>\n",
       "      <td>1.0</td>\n",
       "      <td>5.0</td>\n",
       "      <td>0.0</td>\n",
       "      <td>1.0</td>\n",
       "      <td>730.0</td>\n",
       "      <td>49.0</td>\n",
       "      <td>49.0</td>\n",
       "      <td>49.0</td>\n",
       "    </tr>\n",
       "    <tr>\n",
       "      <th>2</th>\n",
       "      <td>81.0</td>\n",
       "      <td>108.0</td>\n",
       "      <td>923.0</td>\n",
       "      <td>1329.0</td>\n",
       "      <td>1329.0</td>\n",
       "      <td>1329.0</td>\n",
       "      <td>1.0</td>\n",
       "      <td>6.0</td>\n",
       "      <td>0.0</td>\n",
       "      <td>1.0</td>\n",
       "      <td>312.0</td>\n",
       "      <td>52.0</td>\n",
       "      <td>52.0</td>\n",
       "      <td>52.0</td>\n",
       "    </tr>\n",
       "    <tr>\n",
       "      <th>3</th>\n",
       "      <td>93.0</td>\n",
       "      <td>0.0</td>\n",
       "      <td>1065.0</td>\n",
       "      <td>2110.0</td>\n",
       "      <td>2110.0</td>\n",
       "      <td>2110.0</td>\n",
       "      <td>2.0</td>\n",
       "      <td>8.0</td>\n",
       "      <td>2.0</td>\n",
       "      <td>2.0</td>\n",
       "      <td>522.0</td>\n",
       "      <td>42.0</td>\n",
       "      <td>42.0</td>\n",
       "      <td>42.0</td>\n",
       "    </tr>\n",
       "    <tr>\n",
       "      <th>4</th>\n",
       "      <td>74.0</td>\n",
       "      <td>0.0</td>\n",
       "      <td>791.0</td>\n",
       "      <td>928.0</td>\n",
       "      <td>928.0</td>\n",
       "      <td>1629.0</td>\n",
       "      <td>2.0</td>\n",
       "      <td>6.0</td>\n",
       "      <td>1.0</td>\n",
       "      <td>2.0</td>\n",
       "      <td>482.0</td>\n",
       "      <td>13.0</td>\n",
       "      <td>12.0</td>\n",
       "      <td>13.0</td>\n",
       "    </tr>\n",
       "    <tr>\n",
       "      <th>...</th>\n",
       "      <td>...</td>\n",
       "      <td>...</td>\n",
       "      <td>...</td>\n",
       "      <td>...</td>\n",
       "      <td>...</td>\n",
       "      <td>...</td>\n",
       "      <td>...</td>\n",
       "      <td>...</td>\n",
       "      <td>...</td>\n",
       "      <td>...</td>\n",
       "      <td>...</td>\n",
       "      <td>...</td>\n",
       "      <td>...</td>\n",
       "      <td>...</td>\n",
       "    </tr>\n",
       "    <tr>\n",
       "      <th>2925</th>\n",
       "      <td>37.0</td>\n",
       "      <td>0.0</td>\n",
       "      <td>819.0</td>\n",
       "      <td>1003.0</td>\n",
       "      <td>1003.0</td>\n",
       "      <td>1003.0</td>\n",
       "      <td>1.0</td>\n",
       "      <td>6.0</td>\n",
       "      <td>0.0</td>\n",
       "      <td>2.0</td>\n",
       "      <td>588.0</td>\n",
       "      <td>22.0</td>\n",
       "      <td>22.0</td>\n",
       "      <td>22.0</td>\n",
       "    </tr>\n",
       "    <tr>\n",
       "      <th>2926</th>\n",
       "      <td>68.0</td>\n",
       "      <td>0.0</td>\n",
       "      <td>301.0</td>\n",
       "      <td>864.0</td>\n",
       "      <td>902.0</td>\n",
       "      <td>902.0</td>\n",
       "      <td>1.0</td>\n",
       "      <td>5.0</td>\n",
       "      <td>0.0</td>\n",
       "      <td>2.0</td>\n",
       "      <td>484.0</td>\n",
       "      <td>23.0</td>\n",
       "      <td>23.0</td>\n",
       "      <td>23.0</td>\n",
       "    </tr>\n",
       "    <tr>\n",
       "      <th>2927</th>\n",
       "      <td>62.0</td>\n",
       "      <td>0.0</td>\n",
       "      <td>337.0</td>\n",
       "      <td>912.0</td>\n",
       "      <td>970.0</td>\n",
       "      <td>970.0</td>\n",
       "      <td>1.0</td>\n",
       "      <td>6.0</td>\n",
       "      <td>0.0</td>\n",
       "      <td>0.0</td>\n",
       "      <td>0.0</td>\n",
       "      <td>28.0</td>\n",
       "      <td>14.0</td>\n",
       "      <td>14.0</td>\n",
       "    </tr>\n",
       "    <tr>\n",
       "      <th>2928</th>\n",
       "      <td>77.0</td>\n",
       "      <td>0.0</td>\n",
       "      <td>1071.0</td>\n",
       "      <td>1389.0</td>\n",
       "      <td>1389.0</td>\n",
       "      <td>1389.0</td>\n",
       "      <td>1.0</td>\n",
       "      <td>6.0</td>\n",
       "      <td>1.0</td>\n",
       "      <td>2.0</td>\n",
       "      <td>418.0</td>\n",
       "      <td>31.0</td>\n",
       "      <td>31.0</td>\n",
       "      <td>32.0</td>\n",
       "    </tr>\n",
       "    <tr>\n",
       "      <th>2929</th>\n",
       "      <td>74.0</td>\n",
       "      <td>94.0</td>\n",
       "      <td>758.0</td>\n",
       "      <td>996.0</td>\n",
       "      <td>996.0</td>\n",
       "      <td>2000.0</td>\n",
       "      <td>2.0</td>\n",
       "      <td>9.0</td>\n",
       "      <td>1.0</td>\n",
       "      <td>3.0</td>\n",
       "      <td>650.0</td>\n",
       "      <td>13.0</td>\n",
       "      <td>12.0</td>\n",
       "      <td>13.0</td>\n",
       "    </tr>\n",
       "  </tbody>\n",
       "</table>\n",
       "<p>2877 rows × 14 columns</p>\n",
       "</div>"
      ],
      "text/plain": [
       "      Lot.Frontage  Mas.Vnr.Area  BsmtFin.SF.1  Total.Bsmt.SF  X1st.Flr.SF  \\\n",
       "0            141.0         112.0         639.0         1080.0       1656.0   \n",
       "1             80.0           0.0         468.0          882.0        896.0   \n",
       "2             81.0         108.0         923.0         1329.0       1329.0   \n",
       "3             93.0           0.0        1065.0         2110.0       2110.0   \n",
       "4             74.0           0.0         791.0          928.0        928.0   \n",
       "...            ...           ...           ...            ...          ...   \n",
       "2925          37.0           0.0         819.0         1003.0       1003.0   \n",
       "2926          68.0           0.0         301.0          864.0        902.0   \n",
       "2927          62.0           0.0         337.0          912.0        970.0   \n",
       "2928          77.0           0.0        1071.0         1389.0       1389.0   \n",
       "2929          74.0          94.0         758.0          996.0        996.0   \n",
       "\n",
       "      Gr.Liv.Area  Full.Bath  TotRms.AbvGrd  Fireplaces  Garage.Cars  \\\n",
       "0          1656.0        1.0            7.0         2.0          2.0   \n",
       "1           896.0        1.0            5.0         0.0          1.0   \n",
       "2          1329.0        1.0            6.0         0.0          1.0   \n",
       "3          2110.0        2.0            8.0         2.0          2.0   \n",
       "4          1629.0        2.0            6.0         1.0          2.0   \n",
       "...           ...        ...            ...         ...          ...   \n",
       "2925       1003.0        1.0            6.0         0.0          2.0   \n",
       "2926        902.0        1.0            5.0         0.0          2.0   \n",
       "2927        970.0        1.0            6.0         0.0          0.0   \n",
       "2928       1389.0        1.0            6.0         1.0          2.0   \n",
       "2929       2000.0        2.0            9.0         1.0          3.0   \n",
       "\n",
       "      Garage.Area  Garage.Age  Remod.Age  House.Age  \n",
       "0           528.0        50.0       50.0       50.0  \n",
       "1           730.0        49.0       49.0       49.0  \n",
       "2           312.0        52.0       52.0       52.0  \n",
       "3           522.0        42.0       42.0       42.0  \n",
       "4           482.0        13.0       12.0       13.0  \n",
       "...           ...         ...        ...        ...  \n",
       "2925        588.0        22.0       22.0       22.0  \n",
       "2926        484.0        23.0       23.0       23.0  \n",
       "2927          0.0        28.0       14.0       14.0  \n",
       "2928        418.0        31.0       31.0       32.0  \n",
       "2929        650.0        13.0       12.0       13.0  \n",
       "\n",
       "[2877 rows x 14 columns]"
      ]
     },
     "execution_count": 90,
     "metadata": {},
     "output_type": "execute_result"
    }
   ],
   "source": [
    "features_test_corr = model_data[[\"Lot.Frontage\",\"Mas.Vnr.Area\",\"BsmtFin.SF.1\",\"Total.Bsmt.SF\",\"X1st.Flr.SF\",\"Gr.Liv.Area\",\"Full.Bath\",\"TotRms.AbvGrd\",\"Fireplaces\",\"Garage.Cars\",\"Garage.Area\",\"Garage.Age\",\"Remod.Age\",\"House.Age\"]]\n",
    "features_test_corr"
   ]
  },
  {
   "cell_type": "code",
   "execution_count": 91,
   "metadata": {},
   "outputs": [],
   "source": [
    "from sklearn.model_selection import train_test_split\n",
    "RANDOM_SEED = 42  # Any number here, really.\n",
    "\n",
    "Xtrain, Xtest, ytrain, ytest = train_test_split(\n",
    "    features_test_corr,\n",
    "    y,\n",
    "    test_size=0.25,\n",
    "    random_state=RANDOM_SEED,\n",
    ")"
   ]
  },
  {
   "cell_type": "code",
   "execution_count": 92,
   "metadata": {},
   "outputs": [
    {
     "name": "stdout",
     "output_type": "stream",
     "text": [
      "Average error for Ridge is 22.90%\n"
     ]
    }
   ],
   "source": [
    "from sklearn.metrics import mean_squared_error\n",
    "\n",
    "ridge = Ridge()\n",
    "\n",
    "ridge.fit(Xtrain, ytrain)\n",
    "\n",
    "pred_ridge = ridge.predict(Xtest)\n",
    "\n",
    "RMSE_ridge = np.sqrt(mean_squared_error(ytest, pred_ridge))\n",
    "\n",
    "error_percent = 100 * (10**RMSE_ridge - 1)\n",
    "print(f'Average error for Ridge is {error_percent:.2f}%')"
   ]
  },
  {
   "cell_type": "code",
   "execution_count": 93,
   "metadata": {},
   "outputs": [
    {
     "name": "stdout",
     "output_type": "stream",
     "text": [
      "Average error for Ridge Pipeline is 19.41%\n"
     ]
    }
   ],
   "source": [
    "from sklearn.discriminant_analysis import StandardScaler\n",
    "from sklearn.pipeline import Pipeline\n",
    "from sklearn.preprocessing import PolynomialFeatures\n",
    "\n",
    "pipeRidge = Pipeline([\n",
    "    ('scaler', StandardScaler()),\n",
    "    ('poly', PolynomialFeatures(degree=2, include_bias=False)),\n",
    "    ('cls', Ridge())\n",
    "])\n",
    "\n",
    "pipeRidge.fit(Xtrain,ytrain)\n",
    "pred_pipeRidge = pipeRidge.predict(Xtest)\n",
    "\n",
    "\n",
    "from sklearn.metrics import mean_squared_error\n",
    "\n",
    "RMSE_pipeRidge = np.sqrt(mean_squared_error(ytest, pred_pipeRidge))\n",
    "\n",
    "error_percent = 100 * (10**RMSE_pipeRidge - 1)\n",
    "print(f'Average error for Ridge Pipeline is {error_percent:.2f}%')"
   ]
  },
  {
   "cell_type": "code",
   "execution_count": 95,
   "metadata": {},
   "outputs": [
    {
     "data": {
      "text/plain": [
       "(13, 12, 9, 11, 2)"
      ]
     },
     "execution_count": 95,
     "metadata": {},
     "output_type": "execute_result"
    }
   ],
   "source": [
    "list(features_test_corr.columns).index(\"House.Age\"), list(features_test_corr.columns).index(\"Remod.Age\"), list(features_test_corr.columns).index(\"Garage.Cars\"), list(features_test_corr.columns).index(\"Garage.Age\"), list(features_test_corr.columns).index(\"BsmtFin.SF.1\")"
   ]
  },
  {
   "cell_type": "code",
   "execution_count": 107,
   "metadata": {},
   "outputs": [
    {
     "ename": "IndexError",
     "evalue": "only integers, slices (`:`), ellipsis (`...`), numpy.newaxis (`None`) and integer or boolean arrays are valid indices",
     "output_type": "error",
     "traceback": [
      "\u001b[1;31m---------------------------------------------------------------------------\u001b[0m",
      "\u001b[1;31mIndexError\u001b[0m                                Traceback (most recent call last)",
      "\u001b[1;32mc:\\Users\\jalfr\\Desktop\\Machine Learning\\Bangu1\\ames-Bangu1\\notebooks\\03_linear_regression_modeling.ipynb Cell 75\u001b[0m line \u001b[0;36m4\n\u001b[0;32m     <a href='vscode-notebook-cell:/c%3A/Users/jalfr/Desktop/Machine%20Learning/Bangu1/ames-Bangu1/notebooks/03_linear_regression_modeling.ipynb#Y133sZmlsZQ%3D%3D?line=33'>34</a>\u001b[0m adder \u001b[39m=\u001b[39m Pipeline([\n\u001b[0;32m     <a href='vscode-notebook-cell:/c%3A/Users/jalfr/Desktop/Machine%20Learning/Bangu1/ames-Bangu1/notebooks/03_linear_regression_modeling.ipynb#Y133sZmlsZQ%3D%3D?line=34'>35</a>\u001b[0m         (\u001b[39m'\u001b[39m\u001b[39mimputer\u001b[39m\u001b[39m'\u001b[39m, SimpleImputer(strategy\u001b[39m=\u001b[39m\u001b[39m\"\u001b[39m\u001b[39mmean\u001b[39m\u001b[39m\"\u001b[39m)),\n\u001b[0;32m     <a href='vscode-notebook-cell:/c%3A/Users/jalfr/Desktop/Machine%20Learning/Bangu1/ames-Bangu1/notebooks/03_linear_regression_modeling.ipynb#Y133sZmlsZQ%3D%3D?line=35'>36</a>\u001b[0m         (\u001b[39m'\u001b[39m\u001b[39mattribs_adder\u001b[39m\u001b[39m'\u001b[39m, CombinedAttributesAdderCorrFeatures()),\n\u001b[0;32m     <a href='vscode-notebook-cell:/c%3A/Users/jalfr/Desktop/Machine%20Learning/Bangu1/ames-Bangu1/notebooks/03_linear_regression_modeling.ipynb#Y133sZmlsZQ%3D%3D?line=36'>37</a>\u001b[0m \n\u001b[0;32m     <a href='vscode-notebook-cell:/c%3A/Users/jalfr/Desktop/Machine%20Learning/Bangu1/ames-Bangu1/notebooks/03_linear_regression_modeling.ipynb#Y133sZmlsZQ%3D%3D?line=37'>38</a>\u001b[0m     ])\n\u001b[0;32m     <a href='vscode-notebook-cell:/c%3A/Users/jalfr/Desktop/Machine%20Learning/Bangu1/ames-Bangu1/notebooks/03_linear_regression_modeling.ipynb#Y133sZmlsZQ%3D%3D?line=40'>41</a>\u001b[0m full_pipeline \u001b[39m=\u001b[39m ColumnTransformer([\n\u001b[0;32m     <a href='vscode-notebook-cell:/c%3A/Users/jalfr/Desktop/Machine%20Learning/Bangu1/ames-Bangu1/notebooks/03_linear_regression_modeling.ipynb#Y133sZmlsZQ%3D%3D?line=41'>42</a>\u001b[0m         (\u001b[39m\"\u001b[39m\u001b[39mscaler\u001b[39m\u001b[39m\"\u001b[39m, StandardScaler(), columns_std),\n\u001b[0;32m     <a href='vscode-notebook-cell:/c%3A/Users/jalfr/Desktop/Machine%20Learning/Bangu1/ames-Bangu1/notebooks/03_linear_regression_modeling.ipynb#Y133sZmlsZQ%3D%3D?line=42'>43</a>\u001b[0m         (\u001b[39m\"\u001b[39m\u001b[39mtransform\u001b[39m\u001b[39m\"\u001b[39m, adder, all_columns)\n\u001b[0;32m     <a href='vscode-notebook-cell:/c%3A/Users/jalfr/Desktop/Machine%20Learning/Bangu1/ames-Bangu1/notebooks/03_linear_regression_modeling.ipynb#Y133sZmlsZQ%3D%3D?line=43'>44</a>\u001b[0m     ], remainder\u001b[39m=\u001b[39m\u001b[39m\"\u001b[39m\u001b[39mpassthrough\u001b[39m\u001b[39m\"\u001b[39m)\n\u001b[1;32m---> <a href='vscode-notebook-cell:/c%3A/Users/jalfr/Desktop/Machine%20Learning/Bangu1/ames-Bangu1/notebooks/03_linear_regression_modeling.ipynb#Y133sZmlsZQ%3D%3D?line=45'>46</a>\u001b[0m Xtrain_transformed \u001b[39m=\u001b[39m full_pipeline\u001b[39m.\u001b[39;49mfit_transform(Xtrain)\n\u001b[0;32m     <a href='vscode-notebook-cell:/c%3A/Users/jalfr/Desktop/Machine%20Learning/Bangu1/ames-Bangu1/notebooks/03_linear_regression_modeling.ipynb#Y133sZmlsZQ%3D%3D?line=47'>48</a>\u001b[0m Xtrain_transformed\u001b[39m.\u001b[39mshape\n\u001b[0;32m     <a href='vscode-notebook-cell:/c%3A/Users/jalfr/Desktop/Machine%20Learning/Bangu1/ames-Bangu1/notebooks/03_linear_regression_modeling.ipynb#Y133sZmlsZQ%3D%3D?line=49'>50</a>\u001b[0m pipeRidge \u001b[39m=\u001b[39m Pipeline([\n\u001b[0;32m     <a href='vscode-notebook-cell:/c%3A/Users/jalfr/Desktop/Machine%20Learning/Bangu1/ames-Bangu1/notebooks/03_linear_regression_modeling.ipynb#Y133sZmlsZQ%3D%3D?line=50'>51</a>\u001b[0m     \u001b[39m# ('poly', PolynomialFeatures(degree=2, include_bias=False)),\u001b[39;00m\n\u001b[0;32m     <a href='vscode-notebook-cell:/c%3A/Users/jalfr/Desktop/Machine%20Learning/Bangu1/ames-Bangu1/notebooks/03_linear_regression_modeling.ipynb#Y133sZmlsZQ%3D%3D?line=51'>52</a>\u001b[0m     (\u001b[39m'\u001b[39m\u001b[39mcls\u001b[39m\u001b[39m'\u001b[39m, Ridge())\n\u001b[0;32m     <a href='vscode-notebook-cell:/c%3A/Users/jalfr/Desktop/Machine%20Learning/Bangu1/ames-Bangu1/notebooks/03_linear_regression_modeling.ipynb#Y133sZmlsZQ%3D%3D?line=52'>53</a>\u001b[0m ])\n",
      "File \u001b[1;32mc:\\Users\\jalfr\\Desktop\\Machine Learning\\Bangu1\\ames-Bangu1\\env\\lib\\site-packages\\sklearn\\utils\\_set_output.py:157\u001b[0m, in \u001b[0;36m_wrap_method_output.<locals>.wrapped\u001b[1;34m(self, X, *args, **kwargs)\u001b[0m\n\u001b[0;32m    155\u001b[0m \u001b[39m@wraps\u001b[39m(f)\n\u001b[0;32m    156\u001b[0m \u001b[39mdef\u001b[39;00m \u001b[39mwrapped\u001b[39m(\u001b[39mself\u001b[39m, X, \u001b[39m*\u001b[39margs, \u001b[39m*\u001b[39m\u001b[39m*\u001b[39mkwargs):\n\u001b[1;32m--> 157\u001b[0m     data_to_wrap \u001b[39m=\u001b[39m f(\u001b[39mself\u001b[39m, X, \u001b[39m*\u001b[39margs, \u001b[39m*\u001b[39m\u001b[39m*\u001b[39mkwargs)\n\u001b[0;32m    158\u001b[0m     \u001b[39mif\u001b[39;00m \u001b[39misinstance\u001b[39m(data_to_wrap, \u001b[39mtuple\u001b[39m):\n\u001b[0;32m    159\u001b[0m         \u001b[39m# only wrap the first output for cross decomposition\u001b[39;00m\n\u001b[0;32m    160\u001b[0m         return_tuple \u001b[39m=\u001b[39m (\n\u001b[0;32m    161\u001b[0m             _wrap_data_with_container(method, data_to_wrap[\u001b[39m0\u001b[39m], X, \u001b[39mself\u001b[39m),\n\u001b[0;32m    162\u001b[0m             \u001b[39m*\u001b[39mdata_to_wrap[\u001b[39m1\u001b[39m:],\n\u001b[0;32m    163\u001b[0m         )\n",
      "File \u001b[1;32mc:\\Users\\jalfr\\Desktop\\Machine Learning\\Bangu1\\ames-Bangu1\\env\\lib\\site-packages\\sklearn\\base.py:1152\u001b[0m, in \u001b[0;36m_fit_context.<locals>.decorator.<locals>.wrapper\u001b[1;34m(estimator, *args, **kwargs)\u001b[0m\n\u001b[0;32m   1145\u001b[0m     estimator\u001b[39m.\u001b[39m_validate_params()\n\u001b[0;32m   1147\u001b[0m \u001b[39mwith\u001b[39;00m config_context(\n\u001b[0;32m   1148\u001b[0m     skip_parameter_validation\u001b[39m=\u001b[39m(\n\u001b[0;32m   1149\u001b[0m         prefer_skip_nested_validation \u001b[39mor\u001b[39;00m global_skip_validation\n\u001b[0;32m   1150\u001b[0m     )\n\u001b[0;32m   1151\u001b[0m ):\n\u001b[1;32m-> 1152\u001b[0m     \u001b[39mreturn\u001b[39;00m fit_method(estimator, \u001b[39m*\u001b[39margs, \u001b[39m*\u001b[39m\u001b[39m*\u001b[39mkwargs)\n",
      "File \u001b[1;32mc:\\Users\\jalfr\\Desktop\\Machine Learning\\Bangu1\\ames-Bangu1\\env\\lib\\site-packages\\sklearn\\compose\\_column_transformer.py:754\u001b[0m, in \u001b[0;36mColumnTransformer.fit_transform\u001b[1;34m(self, X, y)\u001b[0m\n\u001b[0;32m    751\u001b[0m \u001b[39mself\u001b[39m\u001b[39m.\u001b[39m_validate_column_callables(X)\n\u001b[0;32m    752\u001b[0m \u001b[39mself\u001b[39m\u001b[39m.\u001b[39m_validate_remainder(X)\n\u001b[1;32m--> 754\u001b[0m result \u001b[39m=\u001b[39m \u001b[39mself\u001b[39;49m\u001b[39m.\u001b[39;49m_fit_transform(X, y, _fit_transform_one)\n\u001b[0;32m    756\u001b[0m \u001b[39mif\u001b[39;00m \u001b[39mnot\u001b[39;00m result:\n\u001b[0;32m    757\u001b[0m     \u001b[39mself\u001b[39m\u001b[39m.\u001b[39m_update_fitted_transformers([])\n",
      "File \u001b[1;32mc:\\Users\\jalfr\\Desktop\\Machine Learning\\Bangu1\\ames-Bangu1\\env\\lib\\site-packages\\sklearn\\compose\\_column_transformer.py:681\u001b[0m, in \u001b[0;36mColumnTransformer._fit_transform\u001b[1;34m(self, X, y, func, fitted, column_as_strings)\u001b[0m\n\u001b[0;32m    675\u001b[0m transformers \u001b[39m=\u001b[39m \u001b[39mlist\u001b[39m(\n\u001b[0;32m    676\u001b[0m     \u001b[39mself\u001b[39m\u001b[39m.\u001b[39m_iter(\n\u001b[0;32m    677\u001b[0m         fitted\u001b[39m=\u001b[39mfitted, replace_strings\u001b[39m=\u001b[39m\u001b[39mTrue\u001b[39;00m, column_as_strings\u001b[39m=\u001b[39mcolumn_as_strings\n\u001b[0;32m    678\u001b[0m     )\n\u001b[0;32m    679\u001b[0m )\n\u001b[0;32m    680\u001b[0m \u001b[39mtry\u001b[39;00m:\n\u001b[1;32m--> 681\u001b[0m     \u001b[39mreturn\u001b[39;00m Parallel(n_jobs\u001b[39m=\u001b[39;49m\u001b[39mself\u001b[39;49m\u001b[39m.\u001b[39;49mn_jobs)(\n\u001b[0;32m    682\u001b[0m         delayed(func)(\n\u001b[0;32m    683\u001b[0m             transformer\u001b[39m=\u001b[39;49mclone(trans) \u001b[39mif\u001b[39;49;00m \u001b[39mnot\u001b[39;49;00m fitted \u001b[39melse\u001b[39;49;00m trans,\n\u001b[0;32m    684\u001b[0m             X\u001b[39m=\u001b[39;49m_safe_indexing(X, column, axis\u001b[39m=\u001b[39;49m\u001b[39m1\u001b[39;49m),\n\u001b[0;32m    685\u001b[0m             y\u001b[39m=\u001b[39;49my,\n\u001b[0;32m    686\u001b[0m             weight\u001b[39m=\u001b[39;49mweight,\n\u001b[0;32m    687\u001b[0m             message_clsname\u001b[39m=\u001b[39;49m\u001b[39m\"\u001b[39;49m\u001b[39mColumnTransformer\u001b[39;49m\u001b[39m\"\u001b[39;49m,\n\u001b[0;32m    688\u001b[0m             message\u001b[39m=\u001b[39;49m\u001b[39mself\u001b[39;49m\u001b[39m.\u001b[39;49m_log_message(name, idx, \u001b[39mlen\u001b[39;49m(transformers)),\n\u001b[0;32m    689\u001b[0m         )\n\u001b[0;32m    690\u001b[0m         \u001b[39mfor\u001b[39;49;00m idx, (name, trans, column, weight) \u001b[39min\u001b[39;49;00m \u001b[39menumerate\u001b[39;49m(transformers, \u001b[39m1\u001b[39;49m)\n\u001b[0;32m    691\u001b[0m     )\n\u001b[0;32m    692\u001b[0m \u001b[39mexcept\u001b[39;00m \u001b[39mValueError\u001b[39;00m \u001b[39mas\u001b[39;00m e:\n\u001b[0;32m    693\u001b[0m     \u001b[39mif\u001b[39;00m \u001b[39m\"\u001b[39m\u001b[39mExpected 2D array, got 1D array instead\u001b[39m\u001b[39m\"\u001b[39m \u001b[39min\u001b[39;00m \u001b[39mstr\u001b[39m(e):\n",
      "File \u001b[1;32mc:\\Users\\jalfr\\Desktop\\Machine Learning\\Bangu1\\ames-Bangu1\\env\\lib\\site-packages\\sklearn\\utils\\parallel.py:65\u001b[0m, in \u001b[0;36mParallel.__call__\u001b[1;34m(self, iterable)\u001b[0m\n\u001b[0;32m     60\u001b[0m config \u001b[39m=\u001b[39m get_config()\n\u001b[0;32m     61\u001b[0m iterable_with_config \u001b[39m=\u001b[39m (\n\u001b[0;32m     62\u001b[0m     (_with_config(delayed_func, config), args, kwargs)\n\u001b[0;32m     63\u001b[0m     \u001b[39mfor\u001b[39;00m delayed_func, args, kwargs \u001b[39min\u001b[39;00m iterable\n\u001b[0;32m     64\u001b[0m )\n\u001b[1;32m---> 65\u001b[0m \u001b[39mreturn\u001b[39;00m \u001b[39msuper\u001b[39;49m()\u001b[39m.\u001b[39;49m\u001b[39m__call__\u001b[39;49m(iterable_with_config)\n",
      "File \u001b[1;32mc:\\Users\\jalfr\\Desktop\\Machine Learning\\Bangu1\\ames-Bangu1\\env\\lib\\site-packages\\joblib\\parallel.py:1863\u001b[0m, in \u001b[0;36mParallel.__call__\u001b[1;34m(self, iterable)\u001b[0m\n\u001b[0;32m   1861\u001b[0m     output \u001b[39m=\u001b[39m \u001b[39mself\u001b[39m\u001b[39m.\u001b[39m_get_sequential_output(iterable)\n\u001b[0;32m   1862\u001b[0m     \u001b[39mnext\u001b[39m(output)\n\u001b[1;32m-> 1863\u001b[0m     \u001b[39mreturn\u001b[39;00m output \u001b[39mif\u001b[39;00m \u001b[39mself\u001b[39m\u001b[39m.\u001b[39mreturn_generator \u001b[39melse\u001b[39;00m \u001b[39mlist\u001b[39;49m(output)\n\u001b[0;32m   1865\u001b[0m \u001b[39m# Let's create an ID that uniquely identifies the current call. If the\u001b[39;00m\n\u001b[0;32m   1866\u001b[0m \u001b[39m# call is interrupted early and that the same instance is immediately\u001b[39;00m\n\u001b[0;32m   1867\u001b[0m \u001b[39m# re-used, this id will be used to prevent workers that were\u001b[39;00m\n\u001b[0;32m   1868\u001b[0m \u001b[39m# concurrently finalizing a task from the previous call to run the\u001b[39;00m\n\u001b[0;32m   1869\u001b[0m \u001b[39m# callback.\u001b[39;00m\n\u001b[0;32m   1870\u001b[0m \u001b[39mwith\u001b[39;00m \u001b[39mself\u001b[39m\u001b[39m.\u001b[39m_lock:\n",
      "File \u001b[1;32mc:\\Users\\jalfr\\Desktop\\Machine Learning\\Bangu1\\ames-Bangu1\\env\\lib\\site-packages\\joblib\\parallel.py:1792\u001b[0m, in \u001b[0;36mParallel._get_sequential_output\u001b[1;34m(self, iterable)\u001b[0m\n\u001b[0;32m   1790\u001b[0m \u001b[39mself\u001b[39m\u001b[39m.\u001b[39mn_dispatched_batches \u001b[39m+\u001b[39m\u001b[39m=\u001b[39m \u001b[39m1\u001b[39m\n\u001b[0;32m   1791\u001b[0m \u001b[39mself\u001b[39m\u001b[39m.\u001b[39mn_dispatched_tasks \u001b[39m+\u001b[39m\u001b[39m=\u001b[39m \u001b[39m1\u001b[39m\n\u001b[1;32m-> 1792\u001b[0m res \u001b[39m=\u001b[39m func(\u001b[39m*\u001b[39margs, \u001b[39m*\u001b[39m\u001b[39m*\u001b[39mkwargs)\n\u001b[0;32m   1793\u001b[0m \u001b[39mself\u001b[39m\u001b[39m.\u001b[39mn_completed_tasks \u001b[39m+\u001b[39m\u001b[39m=\u001b[39m \u001b[39m1\u001b[39m\n\u001b[0;32m   1794\u001b[0m \u001b[39mself\u001b[39m\u001b[39m.\u001b[39mprint_progress()\n",
      "File \u001b[1;32mc:\\Users\\jalfr\\Desktop\\Machine Learning\\Bangu1\\ames-Bangu1\\env\\lib\\site-packages\\sklearn\\utils\\parallel.py:127\u001b[0m, in \u001b[0;36m_FuncWrapper.__call__\u001b[1;34m(self, *args, **kwargs)\u001b[0m\n\u001b[0;32m    125\u001b[0m     config \u001b[39m=\u001b[39m {}\n\u001b[0;32m    126\u001b[0m \u001b[39mwith\u001b[39;00m config_context(\u001b[39m*\u001b[39m\u001b[39m*\u001b[39mconfig):\n\u001b[1;32m--> 127\u001b[0m     \u001b[39mreturn\u001b[39;00m \u001b[39mself\u001b[39m\u001b[39m.\u001b[39mfunction(\u001b[39m*\u001b[39margs, \u001b[39m*\u001b[39m\u001b[39m*\u001b[39mkwargs)\n",
      "File \u001b[1;32mc:\\Users\\jalfr\\Desktop\\Machine Learning\\Bangu1\\ames-Bangu1\\env\\lib\\site-packages\\sklearn\\pipeline.py:957\u001b[0m, in \u001b[0;36m_fit_transform_one\u001b[1;34m(transformer, X, y, weight, message_clsname, message, **fit_params)\u001b[0m\n\u001b[0;32m    955\u001b[0m \u001b[39mwith\u001b[39;00m _print_elapsed_time(message_clsname, message):\n\u001b[0;32m    956\u001b[0m     \u001b[39mif\u001b[39;00m \u001b[39mhasattr\u001b[39m(transformer, \u001b[39m\"\u001b[39m\u001b[39mfit_transform\u001b[39m\u001b[39m\"\u001b[39m):\n\u001b[1;32m--> 957\u001b[0m         res \u001b[39m=\u001b[39m transformer\u001b[39m.\u001b[39mfit_transform(X, y, \u001b[39m*\u001b[39m\u001b[39m*\u001b[39mfit_params)\n\u001b[0;32m    958\u001b[0m     \u001b[39melse\u001b[39;00m:\n\u001b[0;32m    959\u001b[0m         res \u001b[39m=\u001b[39m transformer\u001b[39m.\u001b[39mfit(X, y, \u001b[39m*\u001b[39m\u001b[39m*\u001b[39mfit_params)\u001b[39m.\u001b[39mtransform(X)\n",
      "File \u001b[1;32mc:\\Users\\jalfr\\Desktop\\Machine Learning\\Bangu1\\ames-Bangu1\\env\\lib\\site-packages\\sklearn\\base.py:1152\u001b[0m, in \u001b[0;36m_fit_context.<locals>.decorator.<locals>.wrapper\u001b[1;34m(estimator, *args, **kwargs)\u001b[0m\n\u001b[0;32m   1145\u001b[0m     estimator\u001b[39m.\u001b[39m_validate_params()\n\u001b[0;32m   1147\u001b[0m \u001b[39mwith\u001b[39;00m config_context(\n\u001b[0;32m   1148\u001b[0m     skip_parameter_validation\u001b[39m=\u001b[39m(\n\u001b[0;32m   1149\u001b[0m         prefer_skip_nested_validation \u001b[39mor\u001b[39;00m global_skip_validation\n\u001b[0;32m   1150\u001b[0m     )\n\u001b[0;32m   1151\u001b[0m ):\n\u001b[1;32m-> 1152\u001b[0m     \u001b[39mreturn\u001b[39;00m fit_method(estimator, \u001b[39m*\u001b[39margs, \u001b[39m*\u001b[39m\u001b[39m*\u001b[39mkwargs)\n",
      "File \u001b[1;32mc:\\Users\\jalfr\\Desktop\\Machine Learning\\Bangu1\\ames-Bangu1\\env\\lib\\site-packages\\sklearn\\pipeline.py:479\u001b[0m, in \u001b[0;36mPipeline.fit_transform\u001b[1;34m(self, X, y, **fit_params)\u001b[0m\n\u001b[0;32m    477\u001b[0m fit_params_last_step \u001b[39m=\u001b[39m fit_params_steps[\u001b[39mself\u001b[39m\u001b[39m.\u001b[39msteps[\u001b[39m-\u001b[39m\u001b[39m1\u001b[39m][\u001b[39m0\u001b[39m]]\n\u001b[0;32m    478\u001b[0m \u001b[39mif\u001b[39;00m \u001b[39mhasattr\u001b[39m(last_step, \u001b[39m\"\u001b[39m\u001b[39mfit_transform\u001b[39m\u001b[39m\"\u001b[39m):\n\u001b[1;32m--> 479\u001b[0m     \u001b[39mreturn\u001b[39;00m last_step\u001b[39m.\u001b[39mfit_transform(Xt, y, \u001b[39m*\u001b[39m\u001b[39m*\u001b[39mfit_params_last_step)\n\u001b[0;32m    480\u001b[0m \u001b[39melse\u001b[39;00m:\n\u001b[0;32m    481\u001b[0m     \u001b[39mreturn\u001b[39;00m last_step\u001b[39m.\u001b[39mfit(Xt, y, \u001b[39m*\u001b[39m\u001b[39m*\u001b[39mfit_params_last_step)\u001b[39m.\u001b[39mtransform(Xt)\n",
      "File \u001b[1;32mc:\\Users\\jalfr\\Desktop\\Machine Learning\\Bangu1\\ames-Bangu1\\env\\lib\\site-packages\\sklearn\\utils\\_set_output.py:157\u001b[0m, in \u001b[0;36m_wrap_method_output.<locals>.wrapped\u001b[1;34m(self, X, *args, **kwargs)\u001b[0m\n\u001b[0;32m    155\u001b[0m \u001b[39m@wraps\u001b[39m(f)\n\u001b[0;32m    156\u001b[0m \u001b[39mdef\u001b[39;00m \u001b[39mwrapped\u001b[39m(\u001b[39mself\u001b[39m, X, \u001b[39m*\u001b[39margs, \u001b[39m*\u001b[39m\u001b[39m*\u001b[39mkwargs):\n\u001b[1;32m--> 157\u001b[0m     data_to_wrap \u001b[39m=\u001b[39m f(\u001b[39mself\u001b[39m, X, \u001b[39m*\u001b[39margs, \u001b[39m*\u001b[39m\u001b[39m*\u001b[39mkwargs)\n\u001b[0;32m    158\u001b[0m     \u001b[39mif\u001b[39;00m \u001b[39misinstance\u001b[39m(data_to_wrap, \u001b[39mtuple\u001b[39m):\n\u001b[0;32m    159\u001b[0m         \u001b[39m# only wrap the first output for cross decomposition\u001b[39;00m\n\u001b[0;32m    160\u001b[0m         return_tuple \u001b[39m=\u001b[39m (\n\u001b[0;32m    161\u001b[0m             _wrap_data_with_container(method, data_to_wrap[\u001b[39m0\u001b[39m], X, \u001b[39mself\u001b[39m),\n\u001b[0;32m    162\u001b[0m             \u001b[39m*\u001b[39mdata_to_wrap[\u001b[39m1\u001b[39m:],\n\u001b[0;32m    163\u001b[0m         )\n",
      "File \u001b[1;32mc:\\Users\\jalfr\\Desktop\\Machine Learning\\Bangu1\\ames-Bangu1\\env\\lib\\site-packages\\sklearn\\base.py:916\u001b[0m, in \u001b[0;36mTransformerMixin.fit_transform\u001b[1;34m(self, X, y, **fit_params)\u001b[0m\n\u001b[0;32m    912\u001b[0m \u001b[39m# non-optimized default implementation; override when a better\u001b[39;00m\n\u001b[0;32m    913\u001b[0m \u001b[39m# method is possible for a given clustering algorithm\u001b[39;00m\n\u001b[0;32m    914\u001b[0m \u001b[39mif\u001b[39;00m y \u001b[39mis\u001b[39;00m \u001b[39mNone\u001b[39;00m:\n\u001b[0;32m    915\u001b[0m     \u001b[39m# fit method of arity 1 (unsupervised transformation)\u001b[39;00m\n\u001b[1;32m--> 916\u001b[0m     \u001b[39mreturn\u001b[39;00m \u001b[39mself\u001b[39;49m\u001b[39m.\u001b[39;49mfit(X, \u001b[39m*\u001b[39;49m\u001b[39m*\u001b[39;49mfit_params)\u001b[39m.\u001b[39;49mtransform(X)\n\u001b[0;32m    917\u001b[0m \u001b[39melse\u001b[39;00m:\n\u001b[0;32m    918\u001b[0m     \u001b[39m# fit method of arity 2 (supervised transformation)\u001b[39;00m\n\u001b[0;32m    919\u001b[0m     \u001b[39mreturn\u001b[39;00m \u001b[39mself\u001b[39m\u001b[39m.\u001b[39mfit(X, y, \u001b[39m*\u001b[39m\u001b[39m*\u001b[39mfit_params)\u001b[39m.\u001b[39mtransform(X)\n",
      "File \u001b[1;32mc:\\Users\\jalfr\\Desktop\\Machine Learning\\Bangu1\\ames-Bangu1\\env\\lib\\site-packages\\sklearn\\utils\\_set_output.py:157\u001b[0m, in \u001b[0;36m_wrap_method_output.<locals>.wrapped\u001b[1;34m(self, X, *args, **kwargs)\u001b[0m\n\u001b[0;32m    155\u001b[0m \u001b[39m@wraps\u001b[39m(f)\n\u001b[0;32m    156\u001b[0m \u001b[39mdef\u001b[39;00m \u001b[39mwrapped\u001b[39m(\u001b[39mself\u001b[39m, X, \u001b[39m*\u001b[39margs, \u001b[39m*\u001b[39m\u001b[39m*\u001b[39mkwargs):\n\u001b[1;32m--> 157\u001b[0m     data_to_wrap \u001b[39m=\u001b[39m f(\u001b[39mself\u001b[39m, X, \u001b[39m*\u001b[39margs, \u001b[39m*\u001b[39m\u001b[39m*\u001b[39mkwargs)\n\u001b[0;32m    158\u001b[0m     \u001b[39mif\u001b[39;00m \u001b[39misinstance\u001b[39m(data_to_wrap, \u001b[39mtuple\u001b[39m):\n\u001b[0;32m    159\u001b[0m         \u001b[39m# only wrap the first output for cross decomposition\u001b[39;00m\n\u001b[0;32m    160\u001b[0m         return_tuple \u001b[39m=\u001b[39m (\n\u001b[0;32m    161\u001b[0m             _wrap_data_with_container(method, data_to_wrap[\u001b[39m0\u001b[39m], X, \u001b[39mself\u001b[39m),\n\u001b[0;32m    162\u001b[0m             \u001b[39m*\u001b[39mdata_to_wrap[\u001b[39m1\u001b[39m:],\n\u001b[0;32m    163\u001b[0m         )\n",
      "\u001b[1;32mc:\\Users\\jalfr\\Desktop\\Machine Learning\\Bangu1\\ames-Bangu1\\notebooks\\03_linear_regression_modeling.ipynb Cell 75\u001b[0m line \u001b[0;36m2\n\u001b[0;32m     <a href='vscode-notebook-cell:/c%3A/Users/jalfr/Desktop/Machine%20Learning/Bangu1/ames-Bangu1/notebooks/03_linear_regression_modeling.ipynb#Y133sZmlsZQ%3D%3D?line=14'>15</a>\u001b[0m \u001b[39mdef\u001b[39;00m \u001b[39mtransform\u001b[39m(\u001b[39mself\u001b[39m, X, y\u001b[39m=\u001b[39m\u001b[39mNone\u001b[39;00m):\n\u001b[0;32m     <a href='vscode-notebook-cell:/c%3A/Users/jalfr/Desktop/Machine%20Learning/Bangu1/ames-Bangu1/notebooks/03_linear_regression_modeling.ipynb#Y133sZmlsZQ%3D%3D?line=16'>17</a>\u001b[0m     df \u001b[39m=\u001b[39m X\u001b[39m.\u001b[39mcopy()\n\u001b[0;32m     <a href='vscode-notebook-cell:/c%3A/Users/jalfr/Desktop/Machine%20Learning/Bangu1/ames-Bangu1/notebooks/03_linear_regression_modeling.ipynb#Y133sZmlsZQ%3D%3D?line=18'>19</a>\u001b[0m     df[\u001b[39m'\u001b[39m\u001b[39mhas_remodel\u001b[39m\u001b[39m'\u001b[39m] \u001b[39m=\u001b[39m \\\n\u001b[1;32m---> <a href='vscode-notebook-cell:/c%3A/Users/jalfr/Desktop/Machine%20Learning/Bangu1/ames-Bangu1/notebooks/03_linear_regression_modeling.ipynb#Y133sZmlsZQ%3D%3D?line=19'>20</a>\u001b[0m         df[CombinedAttributesAdderCorrFeatures\u001b[39m.\u001b[39;49mremodel] \u001b[39m==\u001b[39m df[CombinedAttributesAdderCorrFeatures\u001b[39m.\u001b[39mhouse_age]\n\u001b[0;32m     <a href='vscode-notebook-cell:/c%3A/Users/jalfr/Desktop/Machine%20Learning/Bangu1/ames-Bangu1/notebooks/03_linear_regression_modeling.ipynb#Y133sZmlsZQ%3D%3D?line=21'>22</a>\u001b[0m     df[\u001b[39m'\u001b[39m\u001b[39mgarage_by_house_age\u001b[39m\u001b[39m'\u001b[39m] \u001b[39m=\u001b[39m \\\n\u001b[0;32m     <a href='vscode-notebook-cell:/c%3A/Users/jalfr/Desktop/Machine%20Learning/Bangu1/ames-Bangu1/notebooks/03_linear_regression_modeling.ipynb#Y133sZmlsZQ%3D%3D?line=22'>23</a>\u001b[0m         df[CombinedAttributesAdderCorrFeatures\u001b[39m.\u001b[39mgarage_age] \u001b[39m/\u001b[39m df[CombinedAttributesAdderCorrFeatures\u001b[39m.\u001b[39mhouse_age]\n\u001b[0;32m     <a href='vscode-notebook-cell:/c%3A/Users/jalfr/Desktop/Machine%20Learning/Bangu1/ames-Bangu1/notebooks/03_linear_regression_modeling.ipynb#Y133sZmlsZQ%3D%3D?line=24'>25</a>\u001b[0m     df \u001b[39m=\u001b[39m df\u001b[39m.\u001b[39mdrop(columns \u001b[39m=\u001b[39m [\u001b[39m\"\u001b[39m\u001b[39mRemod.Age\u001b[39m\u001b[39m\"\u001b[39m, \u001b[39m\"\u001b[39m\u001b[39mGarage.Cars\u001b[39m\u001b[39m\"\u001b[39m])\n",
      "\u001b[1;31mIndexError\u001b[0m: only integers, slices (`:`), ellipsis (`...`), numpy.newaxis (`None`) and integer or boolean arrays are valid indices"
     ]
    }
   ],
   "source": [
    "from sklearn.base import BaseEstimator, TransformerMixin\n",
    "from sklearn.compose import ColumnTransformer\n",
    "from sklearn.impute import SimpleImputer\n",
    "\n",
    "class CombinedAttributesAdderCorrFeatures(BaseEstimator, TransformerMixin):\n",
    "    # Column index.\n",
    "    house_age, remodel, garage_cars, garage_age = \"House.Age\", \"Remod.Age\", \"Garage.Cars\", \"Garage.Age\"\n",
    "    \n",
    "    def __init__(self):  # No *args or **kwargs.\n",
    "        pass\n",
    "            \n",
    "    def fit(self, X, y=None):\n",
    "        return self  # Nothing else to do.\n",
    "\n",
    "    def transform(self, X, y=None):\n",
    "\n",
    "        df = X.copy()\n",
    "\n",
    "        df['has_remodel'] = \\\n",
    "            df[CombinedAttributesAdderCorrFeatures.remodel] == df[CombinedAttributesAdderCorrFeatures.house_age]\n",
    "        \n",
    "        df['garage_by_house_age'] = \\\n",
    "            df[CombinedAttributesAdderCorrFeatures.garage_age] / df[CombinedAttributesAdderCorrFeatures.house_age]\n",
    "        \n",
    "        df = df.drop(columns = [\"Remod.Age\", \"Garage.Cars\"])\n",
    "\n",
    "        return df.astype(float)\n",
    "\n",
    "columns_std = ['X1st.Flr.SF','Total.Bsmt.SF','Lot.Frontage']\n",
    "\n",
    "\n",
    "all_columns = list(features_test_corr.columns)\n",
    "\n",
    "adder = Pipeline([\n",
    "        ('imputer', SimpleImputer(strategy=\"mean\")),\n",
    "        ('attribs_adder', CombinedAttributesAdderCorrFeatures()),\n",
    "\n",
    "    ])\n",
    "\n",
    "\n",
    "full_pipeline = ColumnTransformer([\n",
    "        (\"scaler\", StandardScaler(), columns_std),\n",
    "        (\"transform\", adder, all_columns)\n",
    "    ], remainder=\"passthrough\")\n",
    "\n",
    "Xtrain_transformed = full_pipeline.fit_transform(Xtrain)\n",
    "\n",
    "Xtrain_transformed.shape\n",
    "\n",
    "pipeRidge = Pipeline([\n",
    "    # ('poly', PolynomialFeatures(degree=2, include_bias=False)),\n",
    "    ('cls', Ridge())\n",
    "])\n",
    "\n",
    "pipeRidge.fit(Xtrain_transformed,ytrain)\n",
    "\n",
    "Xtest_transformed = full_pipeline.transform(Xtest)\n",
    "pred_pipeRidge = pipeRidge.predict(Xtest_transformed)\n",
    "\n",
    "from sklearn.metrics import mean_squared_error\n",
    "\n",
    "RMSE_pipeRidge = np.sqrt(mean_squared_error(ytest, pred_pipeRidge))\n",
    "\n",
    "error_percent = 100 * (10**RMSE_pipeRidge - 1)\n",
    "print(f'Average error for Ridge Pipeline is {error_percent:.2f}%')"
   ]
  }
 ],
 "metadata": {
  "kernelspec": {
   "display_name": "ames",
   "language": "python",
   "name": "python3"
  },
  "language_info": {
   "codemirror_mode": {
    "name": "ipython",
    "version": 3
   },
   "file_extension": ".py",
   "mimetype": "text/x-python",
   "name": "python",
   "nbconvert_exporter": "python",
   "pygments_lexer": "ipython3",
   "version": "3.10.2"
  },
  "orig_nbformat": 4,
  "vscode": {
   "interpreter": {
    "hash": "dbd4e51fa3f3bf2a2317a230e3ac8d5fc66f1a44e44c3383f6bf669b9d199507"
   }
  }
 },
 "nbformat": 4,
 "nbformat_minor": 2
}
